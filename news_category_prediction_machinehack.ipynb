{
  "nbformat": 4,
  "nbformat_minor": 0,
  "metadata": {
    "colab": {
      "name": "news_category_prediction_machinehack",
      "provenance": [],
      "collapsed_sections": [],
      "authorship_tag": "ABX9TyOvH+VpVJir9b5blROd4LNY",
      "include_colab_link": true
    },
    "kernelspec": {
      "name": "python3",
      "display_name": "Python 3"
    },
    "language_info": {
      "name": "python"
    },
    "accelerator": "GPU"
  },
  "cells": [
    {
      "cell_type": "markdown",
      "metadata": {
        "id": "view-in-github",
        "colab_type": "text"
      },
      "source": [
        "<a href=\"https://colab.research.google.com/github/RoshanM-18/MachineHack-hackathons/blob/main/news_category_prediction_machinehack.ipynb\" target=\"_parent\"><img src=\"https://colab.research.google.com/assets/colab-badge.svg\" alt=\"Open In Colab\"/></a>"
      ]
    },
    {
      "cell_type": "code",
      "metadata": {
        "colab": {
          "base_uri": "https://localhost:8080/"
        },
        "id": "lDfENnJQrxWQ",
        "outputId": "36bb3997-e714-4511-8c0d-ed1c8fea4729"
      },
      "source": [
        "!nvidia-smi -L"
      ],
      "execution_count": null,
      "outputs": [
        {
          "output_type": "stream",
          "name": "stdout",
          "text": [
            "GPU 0: Tesla P100-PCIE-16GB (UUID: GPU-8e937065-7bee-b307-49e7-fd4b178176bf)\n"
          ]
        }
      ]
    },
    {
      "cell_type": "code",
      "metadata": {
        "id": "XODrRXXPq_em"
      },
      "source": [
        "import tensorflow as tf\n",
        "from tensorflow import keras\n",
        "import pandas as pd\n",
        "import numpy as np\n",
        "import matplotlib.pyplot as plt\n",
        "import os\n",
        "import re\n",
        "import zipfile\n",
        "import random"
      ],
      "execution_count": null,
      "outputs": []
    },
    {
      "cell_type": "code",
      "metadata": {
        "id": "A6kvzpI4yz7h"
      },
      "source": [
        "from sklearn.model_selection import train_test_split\n",
        "from sklearn.metrics import accuracy_score, precision_score, f1_score, recall_score"
      ],
      "execution_count": null,
      "outputs": []
    },
    {
      "cell_type": "code",
      "metadata": {
        "colab": {
          "base_uri": "https://localhost:8080/"
        },
        "id": "KyyaJePgsPVO",
        "outputId": "3fd0ac0a-617f-4ebb-a181-0de56c00e20c"
      },
      "source": [
        "from google.colab import drive\n",
        "drive.mount(\"/content/drive\")"
      ],
      "execution_count": null,
      "outputs": [
        {
          "output_type": "stream",
          "name": "stdout",
          "text": [
            "Mounted at /content/drive\n"
          ]
        }
      ]
    },
    {
      "cell_type": "code",
      "metadata": {
        "id": "W4RKb405rNOS"
      },
      "source": [
        "dir = \"/content/drive/MyDrive/Data.zip\"\n",
        "zip_ref = zipfile.ZipFile(dir)\n",
        "zip_ref.extractall()\n",
        "zip_ref.close()"
      ],
      "execution_count": null,
      "outputs": []
    },
    {
      "cell_type": "markdown",
      "metadata": {
        "id": "rzQnKFTZv5EZ"
      },
      "source": [
        "### preprocessing data"
      ]
    },
    {
      "cell_type": "code",
      "metadata": {
        "colab": {
          "base_uri": "https://localhost:8080/",
          "height": 206
        },
        "id": "AcYzocecse66",
        "outputId": "d7a41fc8-5013-4a26-fd32-35270e56e2b8"
      },
      "source": [
        "train_df = pd.read_excel(\"/content/Participants_Data_News_category/Data_Train.xlsx\")\n",
        "train_df.head()"
      ],
      "execution_count": null,
      "outputs": [
        {
          "output_type": "execute_result",
          "data": {
            "text/html": [
              "\n",
              "  <div id=\"df-9e7b45b1-ee4b-4797-9c4e-c38cbda4b4f8\">\n",
              "    <div class=\"colab-df-container\">\n",
              "      <div>\n",
              "<style scoped>\n",
              "    .dataframe tbody tr th:only-of-type {\n",
              "        vertical-align: middle;\n",
              "    }\n",
              "\n",
              "    .dataframe tbody tr th {\n",
              "        vertical-align: top;\n",
              "    }\n",
              "\n",
              "    .dataframe thead th {\n",
              "        text-align: right;\n",
              "    }\n",
              "</style>\n",
              "<table border=\"1\" class=\"dataframe\">\n",
              "  <thead>\n",
              "    <tr style=\"text-align: right;\">\n",
              "      <th></th>\n",
              "      <th>STORY</th>\n",
              "      <th>SECTION</th>\n",
              "    </tr>\n",
              "  </thead>\n",
              "  <tbody>\n",
              "    <tr>\n",
              "      <th>0</th>\n",
              "      <td>But the most painful was the huge reversal in ...</td>\n",
              "      <td>3.0</td>\n",
              "    </tr>\n",
              "    <tr>\n",
              "      <th>1</th>\n",
              "      <td>How formidable is the opposition alliance amon...</td>\n",
              "      <td>0.0</td>\n",
              "    </tr>\n",
              "    <tr>\n",
              "      <th>2</th>\n",
              "      <td>Most Asian currencies were trading lower today...</td>\n",
              "      <td>3.0</td>\n",
              "    </tr>\n",
              "    <tr>\n",
              "      <th>3</th>\n",
              "      <td>If you want to answer any question, click on ‘...</td>\n",
              "      <td>1.0</td>\n",
              "    </tr>\n",
              "    <tr>\n",
              "      <th>4</th>\n",
              "      <td>In global markets, gold prices edged up today ...</td>\n",
              "      <td>3.0</td>\n",
              "    </tr>\n",
              "  </tbody>\n",
              "</table>\n",
              "</div>\n",
              "      <button class=\"colab-df-convert\" onclick=\"convertToInteractive('df-9e7b45b1-ee4b-4797-9c4e-c38cbda4b4f8')\"\n",
              "              title=\"Convert this dataframe to an interactive table.\"\n",
              "              style=\"display:none;\">\n",
              "        \n",
              "  <svg xmlns=\"http://www.w3.org/2000/svg\" height=\"24px\"viewBox=\"0 0 24 24\"\n",
              "       width=\"24px\">\n",
              "    <path d=\"M0 0h24v24H0V0z\" fill=\"none\"/>\n",
              "    <path d=\"M18.56 5.44l.94 2.06.94-2.06 2.06-.94-2.06-.94-.94-2.06-.94 2.06-2.06.94zm-11 1L8.5 8.5l.94-2.06 2.06-.94-2.06-.94L8.5 2.5l-.94 2.06-2.06.94zm10 10l.94 2.06.94-2.06 2.06-.94-2.06-.94-.94-2.06-.94 2.06-2.06.94z\"/><path d=\"M17.41 7.96l-1.37-1.37c-.4-.4-.92-.59-1.43-.59-.52 0-1.04.2-1.43.59L10.3 9.45l-7.72 7.72c-.78.78-.78 2.05 0 2.83L4 21.41c.39.39.9.59 1.41.59.51 0 1.02-.2 1.41-.59l7.78-7.78 2.81-2.81c.8-.78.8-2.07 0-2.86zM5.41 20L4 18.59l7.72-7.72 1.47 1.35L5.41 20z\"/>\n",
              "  </svg>\n",
              "      </button>\n",
              "      \n",
              "  <style>\n",
              "    .colab-df-container {\n",
              "      display:flex;\n",
              "      flex-wrap:wrap;\n",
              "      gap: 12px;\n",
              "    }\n",
              "\n",
              "    .colab-df-convert {\n",
              "      background-color: #E8F0FE;\n",
              "      border: none;\n",
              "      border-radius: 50%;\n",
              "      cursor: pointer;\n",
              "      display: none;\n",
              "      fill: #1967D2;\n",
              "      height: 32px;\n",
              "      padding: 0 0 0 0;\n",
              "      width: 32px;\n",
              "    }\n",
              "\n",
              "    .colab-df-convert:hover {\n",
              "      background-color: #E2EBFA;\n",
              "      box-shadow: 0px 1px 2px rgba(60, 64, 67, 0.3), 0px 1px 3px 1px rgba(60, 64, 67, 0.15);\n",
              "      fill: #174EA6;\n",
              "    }\n",
              "\n",
              "    [theme=dark] .colab-df-convert {\n",
              "      background-color: #3B4455;\n",
              "      fill: #D2E3FC;\n",
              "    }\n",
              "\n",
              "    [theme=dark] .colab-df-convert:hover {\n",
              "      background-color: #434B5C;\n",
              "      box-shadow: 0px 1px 3px 1px rgba(0, 0, 0, 0.15);\n",
              "      filter: drop-shadow(0px 1px 2px rgba(0, 0, 0, 0.3));\n",
              "      fill: #FFFFFF;\n",
              "    }\n",
              "  </style>\n",
              "\n",
              "      <script>\n",
              "        const buttonEl =\n",
              "          document.querySelector('#df-9e7b45b1-ee4b-4797-9c4e-c38cbda4b4f8 button.colab-df-convert');\n",
              "        buttonEl.style.display =\n",
              "          google.colab.kernel.accessAllowed ? 'block' : 'none';\n",
              "\n",
              "        async function convertToInteractive(key) {\n",
              "          const element = document.querySelector('#df-9e7b45b1-ee4b-4797-9c4e-c38cbda4b4f8');\n",
              "          const dataTable =\n",
              "            await google.colab.kernel.invokeFunction('convertToInteractive',\n",
              "                                                     [key], {});\n",
              "          if (!dataTable) return;\n",
              "\n",
              "          const docLinkHtml = 'Like what you see? Visit the ' +\n",
              "            '<a target=\"_blank\" href=https://colab.research.google.com/notebooks/data_table.ipynb>data table notebook</a>'\n",
              "            + ' to learn more about interactive tables.';\n",
              "          element.innerHTML = '';\n",
              "          dataTable['output_type'] = 'display_data';\n",
              "          await google.colab.output.renderOutput(dataTable, element);\n",
              "          const docLink = document.createElement('div');\n",
              "          docLink.innerHTML = docLinkHtml;\n",
              "          element.appendChild(docLink);\n",
              "        }\n",
              "      </script>\n",
              "    </div>\n",
              "  </div>\n",
              "  "
            ],
            "text/plain": [
              "                                               STORY  SECTION\n",
              "0  But the most painful was the huge reversal in ...      3.0\n",
              "1  How formidable is the opposition alliance amon...      0.0\n",
              "2  Most Asian currencies were trading lower today...      3.0\n",
              "3  If you want to answer any question, click on ‘...      1.0\n",
              "4  In global markets, gold prices edged up today ...      3.0"
            ]
          },
          "metadata": {},
          "execution_count": 59
        }
      ]
    },
    {
      "cell_type": "code",
      "metadata": {
        "id": "7dHEUc7Isqdu"
      },
      "source": [
        "test_df = pd.read_excel(\"/content/Participants_Data_News_category/Data_Test.xlsx\")"
      ],
      "execution_count": null,
      "outputs": []
    },
    {
      "cell_type": "code",
      "metadata": {
        "id": "EHYgzajMswJR"
      },
      "source": [
        "train_df.columns = [x.lower() for x in train_df.columns]"
      ],
      "execution_count": null,
      "outputs": []
    },
    {
      "cell_type": "markdown",
      "metadata": {
        "id": "y1ofeXbStGjb"
      },
      "source": [
        "* 0 --> politics\n",
        "* 1 --> technology\n",
        "* 2 --> entertainment\n",
        "* 3 --> business"
      ]
    },
    {
      "cell_type": "code",
      "metadata": {
        "colab": {
          "base_uri": "https://localhost:8080/"
        },
        "id": "eUNzMNaNs0hZ",
        "outputId": "82a054c1-21a3-42dc-81a5-d21ab0b781d2"
      },
      "source": [
        "train_df.section.value_counts()"
      ],
      "execution_count": null,
      "outputs": [
        {
          "output_type": "execute_result",
          "data": {
            "text/plain": [
              "1.0    2772\n",
              "2.0    1924\n",
              "0.0    1686\n",
              "3.0    1246\n",
              "Name: section, dtype: int64"
            ]
          },
          "metadata": {},
          "execution_count": 62
        }
      ]
    },
    {
      "cell_type": "code",
      "metadata": {
        "colab": {
          "base_uri": "https://localhost:8080/",
          "height": 452
        },
        "id": "V4Sn1RD_t0Lj",
        "outputId": "ac6ea723-3559-46e3-989c-187a913f9429"
      },
      "source": [
        "train_df.section.value_counts().sort_values(ascending=True).plot(kind=\"bar\", figsize=(7,7))"
      ],
      "execution_count": null,
      "outputs": [
        {
          "output_type": "execute_result",
          "data": {
            "text/plain": [
              "<matplotlib.axes._subplots.AxesSubplot at 0x7f8e7ef55a10>"
            ]
          },
          "metadata": {},
          "execution_count": 63
        },
        {
          "output_type": "display_data",
          "data": {
            "image/png": "[encoded data removed]",
            "text/plain": [
              "<Figure size 504x504 with 1 Axes>"
            ]
          },
          "metadata": {
            "needs_background": "light"
          }
        }
      ]
    },
    {
      "cell_type": "code",
      "metadata": {
        "id": "bwQbldBtuEAQ"
      },
      "source": [
        "train_sentences = train_df[\"story\"].tolist()\n",
        "train_labels = train_df[\"section\"].tolist()"
      ],
      "execution_count": null,
      "outputs": []
    },
    {
      "cell_type": "code",
      "metadata": {
        "colab": {
          "base_uri": "https://localhost:8080/"
        },
        "id": "_g2CgtB8uyGd",
        "outputId": "237de14e-62dc-4340-c86b-9bdf6d907828"
      },
      "source": [
        "# average length of the sentence\n",
        "sent_len = [len(x.split()) for x in train_sentences]\n",
        "average_sent_len = np.mean(sent_len)\n",
        "average_sent_len"
      ],
      "execution_count": null,
      "outputs": [
        {
          "output_type": "execute_result",
          "data": {
            "text/plain": [
              "107.58927635028842"
            ]
          },
          "metadata": {},
          "execution_count": 65
        }
      ]
    },
    {
      "cell_type": "code",
      "metadata": {
        "colab": {
          "base_uri": "https://localhost:8080/",
          "height": 265
        },
        "id": "q5B8Bqjcu6fH",
        "outputId": "7986712f-84aa-409b-ddfb-cf84ad849c88"
      },
      "source": [
        "plt.hist(sent_len)\n",
        "plt.show()"
      ],
      "execution_count": null,
      "outputs": [
        {
          "output_type": "display_data",
          "data": {
            "image/png": "[encoded data removed]",
            "text/plain": [
              "<Figure size 432x288 with 1 Axes>"
            ]
          },
          "metadata": {
            "needs_background": "light"
          }
        }
      ]
    },
    {
      "cell_type": "code",
      "metadata": {
        "colab": {
          "base_uri": "https://localhost:8080/"
        },
        "id": "yJctitmSvkXV",
        "outputId": "acf1961e-38bd-47b1-d419-dd615988b8d8"
      },
      "source": [
        "np.percentile(sent_len, 90)"
      ],
      "execution_count": null,
      "outputs": [
        {
          "output_type": "execute_result",
          "data": {
            "text/plain": [
              "199.0"
            ]
          },
          "metadata": {},
          "execution_count": 68
        }
      ]
    },
    {
      "cell_type": "code",
      "metadata": {
        "id": "MwGFss42wev1"
      },
      "source": [
        "train_shuffled_dataset = train_df.sample(frac=1.0, random_state=42)"
      ],
      "execution_count": null,
      "outputs": []
    },
    {
      "cell_type": "code",
      "metadata": {
        "id": "1RIbWcGlyydo"
      },
      "source": [
        "train_sentences, val_sentences, train_labels, val_labels = train_test_split(train_shuffled_dataset[\"story\"].to_numpy(), \n",
        "                                                                            train_shuffled_dataset[\"section\"].to_numpy(), \n",
        "                                                                            stratify=train_shuffled_dataset[\"section\"].to_numpy(),\n",
        "                                                                            test_size=0.1)"
      ],
      "execution_count": null,
      "outputs": []
    },
    {
      "cell_type": "code",
      "metadata": {
        "colab": {
          "base_uri": "https://localhost:8080/"
        },
        "id": "ooKjyMjFyyZj",
        "outputId": "570dba0d-2b51-450e-89c8-03a73e20d91a"
      },
      "source": [
        "len(train_sentences), len(val_sentences)"
      ],
      "execution_count": null,
      "outputs": [
        {
          "output_type": "execute_result",
          "data": {
            "text/plain": [
              "(6865, 763)"
            ]
          },
          "metadata": {},
          "execution_count": 71
        }
      ]
    },
    {
      "cell_type": "code",
      "metadata": {
        "id": "QNfcltliyxrT"
      },
      "source": [
        "def calculate_result(y_true, y_pred):\n",
        "\n",
        "  dictio = {}\n",
        "  dictio[\"accuracy\"] = accuracy_score(y_true, y_pred)\n",
        "  dictio[\"precision\"] = precision_score(y_true, y_pred, average=\"weighted\")\n",
        "  dictio[\"recall\"] = recall_score(y_true, y_pred, average=\"weighted\")\n",
        "  dictio[\"f1\"] = f1_score(y_true, y_pred, average=\"weighted\")\n",
        "\n",
        "  return dictio"
      ],
      "execution_count": null,
      "outputs": []
    },
    {
      "cell_type": "code",
      "metadata": {
        "id": "Uloe2t_x2ZyY"
      },
      "source": [
        ""
      ],
      "execution_count": null,
      "outputs": []
    },
    {
      "cell_type": "markdown",
      "metadata": {
        "id": "vCkN5hFxv9SN"
      },
      "source": [
        "### using prefetch dataset\n",
        "\n"
      ]
    },
    {
      "cell_type": "code",
      "metadata": {
        "id": "iG7Cnw4BvqhF"
      },
      "source": [
        "train_dataset = tf.data.Dataset.from_tensor_slices((train_sentences, train_labels))\n",
        "train_data = train_dataset.batch(32).prefetch(tf.data.AUTOTUNE)"
      ],
      "execution_count": null,
      "outputs": []
    },
    {
      "cell_type": "code",
      "metadata": {
        "id": "LyeLWht2z1tA"
      },
      "source": [
        "val_dataset = tf.data.Dataset.from_tensor_slices((val_sentences, val_labels))\n",
        "val_data = val_dataset.batch(32).prefetch(tf.data.AUTOTUNE)"
      ],
      "execution_count": null,
      "outputs": []
    },
    {
      "cell_type": "markdown",
      "metadata": {
        "id": "-Ts9s7AVwUv3"
      },
      "source": [
        "### text vectorization and embedding layer"
      ]
    },
    {
      "cell_type": "code",
      "metadata": {
        "id": "3oX4d1m6w6iB"
      },
      "source": [
        "text_vectorizer = keras.layers.experimental.preprocessing.TextVectorization(\n",
        "    max_tokens=25000,\n",
        "    output_sequence_length=200,\n",
        "    pad_to_max_tokens=True\n",
        ")"
      ],
      "execution_count": null,
      "outputs": []
    },
    {
      "cell_type": "code",
      "metadata": {
        "id": "f-Fj8Iubxhty"
      },
      "source": [
        "text_vectorizer.adapt(train_sentences)"
      ],
      "execution_count": null,
      "outputs": []
    },
    {
      "cell_type": "code",
      "metadata": {
        "colab": {
          "base_uri": "https://localhost:8080/"
        },
        "id": "soampnOFxsZO",
        "outputId": "343a100b-e185-473b-e116-3ce38f64a01a"
      },
      "source": [
        "vocab = text_vectorizer.get_vocabulary()\n",
        "len(vocab)"
      ],
      "execution_count": null,
      "outputs": [
        {
          "output_type": "execute_result",
          "data": {
            "text/plain": [
              "25000"
            ]
          },
          "metadata": {},
          "execution_count": 77
        }
      ]
    },
    {
      "cell_type": "code",
      "metadata": {
        "colab": {
          "base_uri": "https://localhost:8080/"
        },
        "id": "MoOfXprfyFaR",
        "outputId": "9b3f109b-d243-4fea-dc25-5abb1d04cd68"
      },
      "source": [
        "vocab[:10], vocab[-10:]"
      ],
      "execution_count": null,
      "outputs": [
        {
          "output_type": "execute_result",
          "data": {
            "text/plain": [
              "(['', '[UNK]', 'the', 'to', 'and', 'of', 'in', 'a', 'is', 'on'],\n",
              " ['underwriting',\n",
              "  'underwhelming',\n",
              "  'underwhelmed',\n",
              "  'undervalued',\n",
              "  'underutilized',\n",
              "  'underutilization',\n",
              "  'underused',\n",
              "  'underthehood',\n",
              "  'undersupply',\n",
              "  'undersubscription'])"
            ]
          },
          "metadata": {},
          "execution_count": 78
        }
      ]
    },
    {
      "cell_type": "code",
      "metadata": {
        "id": "mIa5Pb6SyQXw"
      },
      "source": [
        "embedding = keras.layers.Embedding(\n",
        "    input_dim=len(vocab),\n",
        "    output_dim=128,\n",
        "    mask_zero=True,\n",
        "    name=\"embedding_layer\"\n",
        ")"
      ],
      "execution_count": null,
      "outputs": []
    },
    {
      "cell_type": "markdown",
      "metadata": {
        "id": "uO3VlgVjynSm"
      },
      "source": [
        "### Model 0 - Simple CNN model\n",
        "\n",
        "(96.215, 314)"
      ]
    },
    {
      "cell_type": "code",
      "metadata": {
        "colab": {
          "base_uri": "https://localhost:8080/"
        },
        "id": "cbfV4flPywQd",
        "outputId": "3f8d3736-1c8d-4e55-b0ef-f4aec81e2300"
      },
      "source": [
        "inputs = keras.layers.Input(shape=(1,), dtype=tf.string)\n",
        "x = text_vectorizer(inputs)\n",
        "x = embedding(x)\n",
        "x = keras.layers.Conv1D(64, 5, activation=\"relu\")(x)\n",
        "x = keras.layers.MaxPool1D()(x)\n",
        "x = keras.layers.Conv1D(28, 5, activation=\"relu\")(x)\n",
        "x = keras.layers.GlobalMaxPooling1D()(x)\n",
        "x = keras.layers.Dense(128, activation=\"relu\")(x)\n",
        "outputs = keras.layers.Dense(4, activation=\"softmax\")(x)\n",
        "\n",
        "model_0 = keras.Model(inputs, outputs)\n",
        "\n",
        "model_0.compile(loss=keras.losses.SparseCategoricalCrossentropy(), metrics=[\"accuracy\"],\n",
        "                optimizer=keras.optimizers.Adam())\n",
        "\n",
        "history_model_0 = model_0.fit(train_data, steps_per_epoch=len(train_data),\n",
        "                              epochs=10, validation_data=val_data, validation_steps=len(val_data))"
      ],
      "execution_count": null,
      "outputs": [
        {
          "output_type": "stream",
          "text": [
            "Epoch 1/10\n",
            "215/215 [==============================] - 27s 120ms/step - loss: 0.7373 - accuracy: 0.6864 - val_loss: 0.2398 - val_accuracy: 0.9253\n",
            "Epoch 2/10\n",
            "215/215 [==============================] - 26s 119ms/step - loss: 0.1091 - accuracy: 0.9666 - val_loss: 0.1486 - val_accuracy: 0.9528\n",
            "Epoch 3/10\n",
            "215/215 [==============================] - 26s 120ms/step - loss: 0.0200 - accuracy: 0.9940 - val_loss: 0.1617 - val_accuracy: 0.9541\n",
            "Epoch 4/10\n",
            "215/215 [==============================] - 26s 120ms/step - loss: 0.0082 - accuracy: 0.9969 - val_loss: 0.1431 - val_accuracy: 0.9594\n",
            "Epoch 5/10\n",
            "215/215 [==============================] - 26s 119ms/step - loss: 0.0067 - accuracy: 0.9966 - val_loss: 0.1432 - val_accuracy: 0.9581\n",
            "Epoch 6/10\n",
            "215/215 [==============================] - 26s 119ms/step - loss: 0.0062 - accuracy: 0.9969 - val_loss: 0.1424 - val_accuracy: 0.9620\n",
            "Epoch 7/10\n",
            "215/215 [==============================] - 26s 120ms/step - loss: 0.0060 - accuracy: 0.9969 - val_loss: 0.1419 - val_accuracy: 0.9594\n",
            "Epoch 8/10\n",
            "215/215 [==============================] - 26s 120ms/step - loss: 0.0059 - accuracy: 0.9969 - val_loss: 0.1430 - val_accuracy: 0.9633\n",
            "Epoch 9/10\n",
            "215/215 [==============================] - 26s 120ms/step - loss: 0.0057 - accuracy: 0.9971 - val_loss: 0.1475 - val_accuracy: 0.9594\n",
            "Epoch 10/10\n",
            "215/215 [==============================] - 26s 121ms/step - loss: 0.0056 - accuracy: 0.9971 - val_loss: 0.1503 - val_accuracy: 0.9633\n"
          ],
          "name": "stdout"
        }
      ]
    },
    {
      "cell_type": "code",
      "metadata": {
        "colab": {
          "base_uri": "https://localhost:8080/"
        },
        "id": "_VjX9DTj1sLx",
        "outputId": "d198e21a-3d91-41e0-cc00-4d1213f0b251"
      },
      "source": [
        "model_0.evaluate(val_data)"
      ],
      "execution_count": null,
      "outputs": [
        {
          "output_type": "stream",
          "text": [
            "24/24 [==============================] - 1s 21ms/step - loss: 0.1503 - accuracy: 0.9633\n"
          ],
          "name": "stdout"
        },
        {
          "output_type": "execute_result",
          "data": {
            "text/plain": [
              "[0.15031698346138, 0.963302731513977]"
            ]
          },
          "metadata": {
            "tags": []
          },
          "execution_count": 66
        }
      ]
    },
    {
      "cell_type": "code",
      "metadata": {
        "colab": {
          "base_uri": "https://localhost:8080/"
        },
        "id": "BUs6a7sK22VC",
        "outputId": "8ae5f0e3-97cb-491a-d3aa-7f4a56452068"
      },
      "source": [
        "model_0_preds = tf.argmax(model_0.predict(val_data), axis=1)\n",
        "model_0_results = calculate_result(val_labels, model_0_preds)\n",
        "model_0_results"
      ],
      "execution_count": null,
      "outputs": [
        {
          "output_type": "execute_result",
          "data": {
            "text/plain": [
              "{'accuracy': 0.963302752293578,\n",
              " 'f1': 0.9633317582742282,\n",
              " 'precision': 0.963565742150267,\n",
              " 'recall': 0.963302752293578}"
            ]
          },
          "metadata": {
            "tags": []
          },
          "execution_count": 71
        }
      ]
    },
    {
      "cell_type": "code",
      "metadata": {
        "colab": {
          "base_uri": "https://localhost:8080/",
          "height": 206
        },
        "id": "R7GK853F3SVk",
        "outputId": "1e17f8ad-e4e2-40d8-f9a5-718e58a07b86"
      },
      "source": [
        "test_df.head()"
      ],
      "execution_count": null,
      "outputs": [
        {
          "output_type": "execute_result",
          "data": {
            "text/html": [
              "<div>\n",
              "<style scoped>\n",
              "    .dataframe tbody tr th:only-of-type {\n",
              "        vertical-align: middle;\n",
              "    }\n",
              "\n",
              "    .dataframe tbody tr th {\n",
              "        vertical-align: top;\n",
              "    }\n",
              "\n",
              "    .dataframe thead th {\n",
              "        text-align: right;\n",
              "    }\n",
              "</style>\n",
              "<table border=\"1\" class=\"dataframe\">\n",
              "  <thead>\n",
              "    <tr style=\"text-align: right;\">\n",
              "      <th></th>\n",
              "      <th>STORY</th>\n",
              "    </tr>\n",
              "  </thead>\n",
              "  <tbody>\n",
              "    <tr>\n",
              "      <th>0</th>\n",
              "      <td>2019 will see gadgets like gaming smartphones ...</td>\n",
              "    </tr>\n",
              "    <tr>\n",
              "      <th>1</th>\n",
              "      <td>It has also unleashed a wave of changes in the...</td>\n",
              "    </tr>\n",
              "    <tr>\n",
              "      <th>2</th>\n",
              "      <td>It can be confusing to pick the right smartpho...</td>\n",
              "    </tr>\n",
              "    <tr>\n",
              "      <th>3</th>\n",
              "      <td>The mobile application is integrated with a da...</td>\n",
              "    </tr>\n",
              "    <tr>\n",
              "      <th>4</th>\n",
              "      <td>We have rounded up some of the gadgets that sh...</td>\n",
              "    </tr>\n",
              "  </tbody>\n",
              "</table>\n",
              "</div>"
            ],
            "text/plain": [
              "                                               STORY\n",
              "0  2019 will see gadgets like gaming smartphones ...\n",
              "1  It has also unleashed a wave of changes in the...\n",
              "2  It can be confusing to pick the right smartpho...\n",
              "3  The mobile application is integrated with a da...\n",
              "4  We have rounded up some of the gadgets that sh..."
            ]
          },
          "metadata": {
            "tags": []
          },
          "execution_count": 72
        }
      ]
    },
    {
      "cell_type": "code",
      "metadata": {
        "id": "4tyBJN443wpc"
      },
      "source": [
        "model_0_test_preds = tf.argmax(model_0.predict(test_df[\"STORY\"].to_numpy()), axis=1)"
      ],
      "execution_count": null,
      "outputs": []
    },
    {
      "cell_type": "code",
      "metadata": {
        "colab": {
          "base_uri": "https://localhost:8080/"
        },
        "id": "vqZhGHYE33K8",
        "outputId": "1cd01aa5-b522-4f0f-975b-0d06cf8fa5c9"
      },
      "source": [
        "model_0_test_preds"
      ],
      "execution_count": null,
      "outputs": [
        {
          "output_type": "execute_result",
          "data": {
            "text/plain": [
              "<tf.Tensor: shape=(2748,), dtype=int64, numpy=array([1, 2, 1, ..., 1, 0, 1])>"
            ]
          },
          "metadata": {
            "tags": []
          },
          "execution_count": 75
        }
      ]
    },
    {
      "cell_type": "code",
      "metadata": {
        "id": "mJSruiN439k-"
      },
      "source": [
        "test_pred = pd.DataFrame(model_0_test_preds)"
      ],
      "execution_count": null,
      "outputs": []
    },
    {
      "cell_type": "code",
      "metadata": {
        "id": "WXbolsId4Epx"
      },
      "source": [
        "test_pred.columns = [\"SECTION\"]"
      ],
      "execution_count": null,
      "outputs": []
    },
    {
      "cell_type": "code",
      "metadata": {
        "id": "bqgh1R8q4FRa"
      },
      "source": [
        "test_pred.to_csv(\"test_pred.csv\", index=False)"
      ],
      "execution_count": null,
      "outputs": []
    },
    {
      "cell_type": "markdown",
      "metadata": {
        "id": "8YsKB6a14MrL"
      },
      "source": [
        "### Model 1 - CNN stacked with GRU\n",
        "\n",
        "(97.016, 236)"
      ]
    },
    {
      "cell_type": "code",
      "metadata": {
        "colab": {
          "base_uri": "https://localhost:8080/"
        },
        "id": "Oej70YhR6L_I",
        "outputId": "a7963287-0b71-42f1-8849-b6c1d712010f"
      },
      "source": [
        "inputs = keras.layers.Input(shape=(1,), dtype=tf.string)\n",
        "x = text_vectorizer(inputs)\n",
        "x = embedding(x)\n",
        "x = keras.layers.GRU(64, return_sequences=True)(x)\n",
        "x = keras.layers.Conv1D(128, 5, activation=\"relu\")(x)\n",
        "x = keras.layers.GlobalMaxPooling1D()(x)\n",
        "outputs = keras.layers.Dense(4, activation=\"softmax\")(x)\n",
        "\n",
        "model_1 = keras.Model(inputs, outputs)\n",
        "\n",
        "model_1.compile(loss=keras.losses.SparseCategoricalCrossentropy(), metrics=[\"accuracy\"],\n",
        "                optimizer=keras.optimizers.Adam())\n",
        "\n",
        "history_model_1 = model_1.fit(train_data, steps_per_epoch=len(train_data),\n",
        "                              epochs=20, validation_data=val_data, validation_steps=len(val_data),\n",
        "                              callbacks=[keras.callbacks.ModelCheckpoint(filepath=\"/model_training_2/\",\n",
        "                                                                         monitor=\"val_loss\", save_best_only=True),\n",
        "                                        ])"
      ],
      "execution_count": null,
      "outputs": [
        {
          "output_type": "stream",
          "name": "stdout",
          "text": [
            "Epoch 1/20\n",
            "212/215 [============================>.] - ETA: 0s - loss: 0.4728 - accuracy: 0.8022"
          ]
        },
        {
          "output_type": "stream",
          "name": "stderr",
          "text": [
            "WARNING:absl:Found untraced functions such as gru_cell_6_layer_call_fn, gru_cell_6_layer_call_and_return_conditional_losses, gru_cell_6_layer_call_fn, gru_cell_6_layer_call_and_return_conditional_losses, gru_cell_6_layer_call_and_return_conditional_losses while saving (showing 5 of 5). These functions will not be directly callable after loading.\n"
          ]
        },
        {
          "output_type": "stream",
          "name": "stdout",
          "text": [
            "INFO:tensorflow:Assets written to: /model_training_2/assets\n"
          ]
        },
        {
          "output_type": "stream",
          "name": "stderr",
          "text": [
            "INFO:tensorflow:Assets written to: /model_training_2/assets\n",
            "WARNING:absl:<keras.layers.recurrent.GRUCell object at 0x7f8fb466e950> has the same name 'GRUCell' as a built-in Keras object. Consider renaming <class 'keras.layers.recurrent.GRUCell'> to avoid naming conflicts when loading with `tf.keras.models.load_model`. If renaming is not possible, pass the object in the `custom_objects` parameter of the load function.\n"
          ]
        },
        {
          "output_type": "stream",
          "name": "stdout",
          "text": [
            "215/215 [==============================] - 17s 65ms/step - loss: 0.4689 - accuracy: 0.8041 - val_loss: 0.1942 - val_accuracy: 0.9423\n",
            "Epoch 2/20\n",
            "215/215 [==============================] - 3s 16ms/step - loss: 0.0490 - accuracy: 0.9854 - val_loss: 0.2311 - val_accuracy: 0.9423\n",
            "Epoch 3/20\n",
            "215/215 [==============================] - ETA: 0s - loss: 0.0122 - accuracy: 0.9964"
          ]
        },
        {
          "output_type": "stream",
          "name": "stderr",
          "text": [
            "WARNING:absl:Found untraced functions such as gru_cell_6_layer_call_fn, gru_cell_6_layer_call_and_return_conditional_losses, gru_cell_6_layer_call_fn, gru_cell_6_layer_call_and_return_conditional_losses, gru_cell_6_layer_call_and_return_conditional_losses while saving (showing 5 of 5). These functions will not be directly callable after loading.\n"
          ]
        },
        {
          "output_type": "stream",
          "name": "stdout",
          "text": [
            "INFO:tensorflow:Assets written to: /model_training_2/assets\n"
          ]
        },
        {
          "output_type": "stream",
          "name": "stderr",
          "text": [
            "INFO:tensorflow:Assets written to: /model_training_2/assets\n",
            "WARNING:absl:<keras.layers.recurrent.GRUCell object at 0x7f8fb466e950> has the same name 'GRUCell' as a built-in Keras object. Consider renaming <class 'keras.layers.recurrent.GRUCell'> to avoid naming conflicts when loading with `tf.keras.models.load_model`. If renaming is not possible, pass the object in the `custom_objects` parameter of the load function.\n"
          ]
        },
        {
          "output_type": "stream",
          "name": "stdout",
          "text": [
            "215/215 [==============================] - 13s 60ms/step - loss: 0.0122 - accuracy: 0.9964 - val_loss: 0.1882 - val_accuracy: 0.9581\n",
            "Epoch 4/20\n",
            "215/215 [==============================] - 3s 16ms/step - loss: 0.0079 - accuracy: 0.9969 - val_loss: 0.1978 - val_accuracy: 0.9620\n",
            "Epoch 5/20\n",
            "212/215 [============================>.] - ETA: 0s - loss: 0.0068 - accuracy: 0.9975"
          ]
        },
        {
          "output_type": "stream",
          "name": "stderr",
          "text": [
            "WARNING:absl:Found untraced functions such as gru_cell_6_layer_call_fn, gru_cell_6_layer_call_and_return_conditional_losses, gru_cell_6_layer_call_fn, gru_cell_6_layer_call_and_return_conditional_losses, gru_cell_6_layer_call_and_return_conditional_losses while saving (showing 5 of 5). These functions will not be directly callable after loading.\n"
          ]
        },
        {
          "output_type": "stream",
          "name": "stdout",
          "text": [
            "INFO:tensorflow:Assets written to: /model_training_2/assets\n"
          ]
        },
        {
          "output_type": "stream",
          "name": "stderr",
          "text": [
            "INFO:tensorflow:Assets written to: /model_training_2/assets\n",
            "WARNING:absl:<keras.layers.recurrent.GRUCell object at 0x7f8fb466e950> has the same name 'GRUCell' as a built-in Keras object. Consider renaming <class 'keras.layers.recurrent.GRUCell'> to avoid naming conflicts when loading with `tf.keras.models.load_model`. If renaming is not possible, pass the object in the `custom_objects` parameter of the load function.\n"
          ]
        },
        {
          "output_type": "stream",
          "name": "stdout",
          "text": [
            "215/215 [==============================] - 13s 60ms/step - loss: 0.0067 - accuracy: 0.9975 - val_loss: 0.1866 - val_accuracy: 0.9659\n",
            "Epoch 6/20\n",
            "214/215 [============================>.] - ETA: 0s - loss: 0.0059 - accuracy: 0.9974"
          ]
        },
        {
          "output_type": "stream",
          "name": "stderr",
          "text": [
            "WARNING:absl:Found untraced functions such as gru_cell_6_layer_call_fn, gru_cell_6_layer_call_and_return_conditional_losses, gru_cell_6_layer_call_fn, gru_cell_6_layer_call_and_return_conditional_losses, gru_cell_6_layer_call_and_return_conditional_losses while saving (showing 5 of 5). These functions will not be directly callable after loading.\n"
          ]
        },
        {
          "output_type": "stream",
          "name": "stdout",
          "text": [
            "INFO:tensorflow:Assets written to: /model_training_2/assets\n"
          ]
        },
        {
          "output_type": "stream",
          "name": "stderr",
          "text": [
            "INFO:tensorflow:Assets written to: /model_training_2/assets\n",
            "WARNING:absl:<keras.layers.recurrent.GRUCell object at 0x7f8fb466e950> has the same name 'GRUCell' as a built-in Keras object. Consider renaming <class 'keras.layers.recurrent.GRUCell'> to avoid naming conflicts when loading with `tf.keras.models.load_model`. If renaming is not possible, pass the object in the `custom_objects` parameter of the load function.\n"
          ]
        },
        {
          "output_type": "stream",
          "name": "stdout",
          "text": [
            "215/215 [==============================] - 13s 61ms/step - loss: 0.0059 - accuracy: 0.9974 - val_loss: 0.1839 - val_accuracy: 0.9659\n",
            "Epoch 7/20\n",
            "215/215 [==============================] - 3s 15ms/step - loss: 0.0053 - accuracy: 0.9974 - val_loss: 0.2137 - val_accuracy: 0.9620\n",
            "Epoch 8/20\n",
            "215/215 [==============================] - 3s 15ms/step - loss: 0.0055 - accuracy: 0.9972 - val_loss: 0.1952 - val_accuracy: 0.9633\n",
            "Epoch 9/20\n",
            "215/215 [==============================] - 3s 16ms/step - loss: 0.0052 - accuracy: 0.9974 - val_loss: 0.2098 - val_accuracy: 0.9607\n",
            "Epoch 10/20\n",
            "215/215 [==============================] - 3s 16ms/step - loss: 0.0065 - accuracy: 0.9971 - val_loss: 0.1986 - val_accuracy: 0.9620\n",
            "Epoch 11/20\n",
            "215/215 [==============================] - 3s 16ms/step - loss: 0.0051 - accuracy: 0.9975 - val_loss: 0.2201 - val_accuracy: 0.9554\n",
            "Epoch 12/20\n",
            "215/215 [==============================] - 3s 16ms/step - loss: 0.0056 - accuracy: 0.9974 - val_loss: 0.2034 - val_accuracy: 0.9594\n",
            "Epoch 13/20\n",
            "215/215 [==============================] - 3s 16ms/step - loss: 0.0048 - accuracy: 0.9972 - val_loss: 0.1992 - val_accuracy: 0.9567\n",
            "Epoch 14/20\n",
            "215/215 [==============================] - 3s 16ms/step - loss: 0.0047 - accuracy: 0.9971 - val_loss: 0.1938 - val_accuracy: 0.9594\n",
            "Epoch 15/20\n",
            "215/215 [==============================] - 3s 15ms/step - loss: 0.0237 - accuracy: 0.9927 - val_loss: 0.4203 - val_accuracy: 0.9122\n",
            "Epoch 16/20\n",
            "215/215 [==============================] - 3s 16ms/step - loss: 0.0382 - accuracy: 0.9873 - val_loss: 0.2469 - val_accuracy: 0.9541\n",
            "Epoch 17/20\n",
            "215/215 [==============================] - 3s 15ms/step - loss: 0.0098 - accuracy: 0.9952 - val_loss: 0.2196 - val_accuracy: 0.9581\n",
            "Epoch 18/20\n",
            "215/215 [==============================] - 3s 16ms/step - loss: 0.0050 - accuracy: 0.9971 - val_loss: 0.2091 - val_accuracy: 0.9620\n",
            "Epoch 19/20\n",
            "215/215 [==============================] - 3s 16ms/step - loss: 0.0046 - accuracy: 0.9969 - val_loss: 0.2044 - val_accuracy: 0.9607\n",
            "Epoch 20/20\n",
            "215/215 [==============================] - 3s 16ms/step - loss: 0.0046 - accuracy: 0.9968 - val_loss: 0.2036 - val_accuracy: 0.9620\n"
          ]
        }
      ]
    },
    {
      "cell_type": "code",
      "metadata": {
        "id": "uj8lmxV27rtR",
        "colab": {
          "base_uri": "https://localhost:8080/"
        },
        "outputId": "43dc5abf-e1df-42a7-e8f8-cdf844b4f809"
      },
      "source": [
        "model_1.evaluate(val_data)"
      ],
      "execution_count": null,
      "outputs": [
        {
          "output_type": "stream",
          "name": "stdout",
          "text": [
            "24/24 [==============================] - 0s 7ms/step - loss: 0.2036 - accuracy: 0.9620\n"
          ]
        },
        {
          "output_type": "execute_result",
          "data": {
            "text/plain": [
              "[0.2036125361919403, 0.9619921445846558]"
            ]
          },
          "metadata": {},
          "execution_count": 92
        }
      ]
    },
    {
      "cell_type": "code",
      "source": [
        "model_1.load_weights(\"/model_training_2/\")"
      ],
      "metadata": {
        "colab": {
          "base_uri": "https://localhost:8080/"
        },
        "id": "PwO2NnLE5tjE",
        "outputId": "99f4c37f-e34f-49d8-9bfd-e881a2185bde"
      },
      "execution_count": null,
      "outputs": [
        {
          "output_type": "execute_result",
          "data": {
            "text/plain": [
              "<tensorflow.python.training.tracking.util.CheckpointLoadStatus at 0x7f8f9c0d6ad0>"
            ]
          },
          "metadata": {},
          "execution_count": 93
        }
      ]
    },
    {
      "cell_type": "code",
      "source": [
        "model_1.evaluate(val_data)"
      ],
      "metadata": {
        "colab": {
          "base_uri": "https://localhost:8080/"
        },
        "id": "lh2BBjgk7KkZ",
        "outputId": "a8358c5d-ee9c-447f-ac11-560f5351a770"
      },
      "execution_count": null,
      "outputs": [
        {
          "output_type": "stream",
          "name": "stdout",
          "text": [
            "24/24 [==============================] - 0s 7ms/step - loss: 0.1839 - accuracy: 0.9659\n"
          ]
        },
        {
          "output_type": "execute_result",
          "data": {
            "text/plain": [
              "[0.18394307792186737, 0.9659239649772644]"
            ]
          },
          "metadata": {},
          "execution_count": 94
        }
      ]
    },
    {
      "cell_type": "code",
      "metadata": {
        "colab": {
          "base_uri": "https://localhost:8080/"
        },
        "id": "a0OCRM7hjKhI",
        "outputId": "5369fcc9-2276-4c87-deec-48a145c41155"
      },
      "source": [
        "model_1_test_preds = tf.argmax(model_1.predict(test_df[\"STORY\"].to_numpy()), axis=1)\n",
        "model_1_test_preds[:10]"
      ],
      "execution_count": null,
      "outputs": [
        {
          "output_type": "execute_result",
          "data": {
            "text/plain": [
              "<tf.Tensor: shape=(10,), dtype=int64, numpy=array([1, 2, 1, 1, 1, 1, 1, 2, 1, 2])>"
            ]
          },
          "metadata": {},
          "execution_count": 97
        }
      ]
    },
    {
      "cell_type": "code",
      "metadata": {
        "id": "zKa3pN2_jawy"
      },
      "source": [
        "test_df = pd.DataFrame(model_1_test_preds)\n",
        "test_df.columns = [\"SECTION\"]"
      ],
      "execution_count": null,
      "outputs": []
    },
    {
      "cell_type": "code",
      "source": [
        "test_df"
      ],
      "metadata": {
        "id": "k26vC650-4C7",
        "outputId": "c30ead89-a281-495a-b3fa-f5e965f104a6",
        "colab": {
          "base_uri": "https://localhost:8080/",
          "height": 424
        }
      },
      "execution_count": null,
      "outputs": [
        {
          "output_type": "execute_result",
          "data": {
            "text/html": [
              "\n",
              "  <div id=\"df-3986f437-f15c-4a1a-92fa-ee95d7d96a69\">\n",
              "    <div class=\"colab-df-container\">\n",
              "      <div>\n",
              "<style scoped>\n",
              "    .dataframe tbody tr th:only-of-type {\n",
              "        vertical-align: middle;\n",
              "    }\n",
              "\n",
              "    .dataframe tbody tr th {\n",
              "        vertical-align: top;\n",
              "    }\n",
              "\n",
              "    .dataframe thead th {\n",
              "        text-align: right;\n",
              "    }\n",
              "</style>\n",
              "<table border=\"1\" class=\"dataframe\">\n",
              "  <thead>\n",
              "    <tr style=\"text-align: right;\">\n",
              "      <th></th>\n",
              "      <th>SECTION</th>\n",
              "    </tr>\n",
              "  </thead>\n",
              "  <tbody>\n",
              "    <tr>\n",
              "      <th>0</th>\n",
              "      <td>1</td>\n",
              "    </tr>\n",
              "    <tr>\n",
              "      <th>1</th>\n",
              "      <td>2</td>\n",
              "    </tr>\n",
              "    <tr>\n",
              "      <th>2</th>\n",
              "      <td>1</td>\n",
              "    </tr>\n",
              "    <tr>\n",
              "      <th>3</th>\n",
              "      <td>1</td>\n",
              "    </tr>\n",
              "    <tr>\n",
              "      <th>4</th>\n",
              "      <td>1</td>\n",
              "    </tr>\n",
              "    <tr>\n",
              "      <th>...</th>\n",
              "      <td>...</td>\n",
              "    </tr>\n",
              "    <tr>\n",
              "      <th>2743</th>\n",
              "      <td>1</td>\n",
              "    </tr>\n",
              "    <tr>\n",
              "      <th>2744</th>\n",
              "      <td>1</td>\n",
              "    </tr>\n",
              "    <tr>\n",
              "      <th>2745</th>\n",
              "      <td>1</td>\n",
              "    </tr>\n",
              "    <tr>\n",
              "      <th>2746</th>\n",
              "      <td>0</td>\n",
              "    </tr>\n",
              "    <tr>\n",
              "      <th>2747</th>\n",
              "      <td>1</td>\n",
              "    </tr>\n",
              "  </tbody>\n",
              "</table>\n",
              "<p>2748 rows × 1 columns</p>\n",
              "</div>\n",
              "      <button class=\"colab-df-convert\" onclick=\"convertToInteractive('df-3986f437-f15c-4a1a-92fa-ee95d7d96a69')\"\n",
              "              title=\"Convert this dataframe to an interactive table.\"\n",
              "              style=\"display:none;\">\n",
              "        \n",
              "  <svg xmlns=\"http://www.w3.org/2000/svg\" height=\"24px\"viewBox=\"0 0 24 24\"\n",
              "       width=\"24px\">\n",
              "    <path d=\"M0 0h24v24H0V0z\" fill=\"none\"/>\n",
              "    <path d=\"M18.56 5.44l.94 2.06.94-2.06 2.06-.94-2.06-.94-.94-2.06-.94 2.06-2.06.94zm-11 1L8.5 8.5l.94-2.06 2.06-.94-2.06-.94L8.5 2.5l-.94 2.06-2.06.94zm10 10l.94 2.06.94-2.06 2.06-.94-2.06-.94-.94-2.06-.94 2.06-2.06.94z\"/><path d=\"M17.41 7.96l-1.37-1.37c-.4-.4-.92-.59-1.43-.59-.52 0-1.04.2-1.43.59L10.3 9.45l-7.72 7.72c-.78.78-.78 2.05 0 2.83L4 21.41c.39.39.9.59 1.41.59.51 0 1.02-.2 1.41-.59l7.78-7.78 2.81-2.81c.8-.78.8-2.07 0-2.86zM5.41 20L4 18.59l7.72-7.72 1.47 1.35L5.41 20z\"/>\n",
              "  </svg>\n",
              "      </button>\n",
              "      \n",
              "  <style>\n",
              "    .colab-df-container {\n",
              "      display:flex;\n",
              "      flex-wrap:wrap;\n",
              "      gap: 12px;\n",
              "    }\n",
              "\n",
              "    .colab-df-convert {\n",
              "      background-color: #E8F0FE;\n",
              "      border: none;\n",
              "      border-radius: 50%;\n",
              "      cursor: pointer;\n",
              "      display: none;\n",
              "      fill: #1967D2;\n",
              "      height: 32px;\n",
              "      padding: 0 0 0 0;\n",
              "      width: 32px;\n",
              "    }\n",
              "\n",
              "    .colab-df-convert:hover {\n",
              "      background-color: #E2EBFA;\n",
              "      box-shadow: 0px 1px 2px rgba(60, 64, 67, 0.3), 0px 1px 3px 1px rgba(60, 64, 67, 0.15);\n",
              "      fill: #174EA6;\n",
              "    }\n",
              "\n",
              "    [theme=dark] .colab-df-convert {\n",
              "      background-color: #3B4455;\n",
              "      fill: #D2E3FC;\n",
              "    }\n",
              "\n",
              "    [theme=dark] .colab-df-convert:hover {\n",
              "      background-color: #434B5C;\n",
              "      box-shadow: 0px 1px 3px 1px rgba(0, 0, 0, 0.15);\n",
              "      filter: drop-shadow(0px 1px 2px rgba(0, 0, 0, 0.3));\n",
              "      fill: #FFFFFF;\n",
              "    }\n",
              "  </style>\n",
              "\n",
              "      <script>\n",
              "        const buttonEl =\n",
              "          document.querySelector('#df-3986f437-f15c-4a1a-92fa-ee95d7d96a69 button.colab-df-convert');\n",
              "        buttonEl.style.display =\n",
              "          google.colab.kernel.accessAllowed ? 'block' : 'none';\n",
              "\n",
              "        async function convertToInteractive(key) {\n",
              "          const element = document.querySelector('#df-3986f437-f15c-4a1a-92fa-ee95d7d96a69');\n",
              "          const dataTable =\n",
              "            await google.colab.kernel.invokeFunction('convertToInteractive',\n",
              "                                                     [key], {});\n",
              "          if (!dataTable) return;\n",
              "\n",
              "          const docLinkHtml = 'Like what you see? Visit the ' +\n",
              "            '<a target=\"_blank\" href=https://colab.research.google.com/notebooks/data_table.ipynb>data table notebook</a>'\n",
              "            + ' to learn more about interactive tables.';\n",
              "          element.innerHTML = '';\n",
              "          dataTable['output_type'] = 'display_data';\n",
              "          await google.colab.output.renderOutput(dataTable, element);\n",
              "          const docLink = document.createElement('div');\n",
              "          docLink.innerHTML = docLinkHtml;\n",
              "          element.appendChild(docLink);\n",
              "        }\n",
              "      </script>\n",
              "    </div>\n",
              "  </div>\n",
              "  "
            ],
            "text/plain": [
              "      SECTION\n",
              "0           1\n",
              "1           2\n",
              "2           1\n",
              "3           1\n",
              "4           1\n",
              "...       ...\n",
              "2743        1\n",
              "2744        1\n",
              "2745        1\n",
              "2746        0\n",
              "2747        1\n",
              "\n",
              "[2748 rows x 1 columns]"
            ]
          },
          "metadata": {},
          "execution_count": 99
        }
      ]
    },
    {
      "cell_type": "code",
      "metadata": {
        "id": "TGdDEbqhjkMt"
      },
      "source": [
        "test_df.to_csv(\"test_preds_gru_3.csv\", index=False)"
      ],
      "execution_count": null,
      "outputs": []
    },
    {
      "cell_type": "code",
      "metadata": {
        "id": "loTcvP_1jtEG"
      },
      "source": [
        ""
      ],
      "execution_count": null,
      "outputs": []
    },
    {
      "cell_type": "markdown",
      "metadata": {
        "id": "eh7L2rAkkajn"
      },
      "source": [
        "### Model 2 - Bidirectional LSTM stacked with CNN\n",
        "\n",
        "(Bad idea. The model doesn't show any positive results.)"
      ]
    },
    {
      "cell_type": "code",
      "metadata": {
        "colab": {
          "base_uri": "https://localhost:8080/",
          "height": 504
        },
        "id": "IZdmyhiGkaf_",
        "outputId": "9299deb3-75d3-4e5d-965a-f47051b1927f"
      },
      "source": [
        "inputs = keras.layers.Input(shape=(1,), dtype=tf.string)\n",
        "x = text_vectorizer(inputs)\n",
        "x = embedding(x)\n",
        "x = keras.layers.Bidirectional(keras.layers.LSTM(32, return_sequences=True))(x)\n",
        "x = keras.layers.Conv1D(64, 5, activation=\"relu\")(x)\n",
        "x = keras.layers.GlobalMaxPooling1D()(x)\n",
        "x = keras.layers.Dense(64, activation=\"relu\")(x)\n",
        "outputs = keras.layers.Dense(3, activation=\"softmax\")(x)\n",
        "\n",
        "model_2 = keras.Model(inputs, outputs)\n",
        "\n",
        "model_2.compile(loss=keras.losses.SparseCategoricalCrossentropy(), \n",
        "                optimizer=keras.optimizers.Adam(learning_rate=0.002), metrics=[\"accuracy\"])\n",
        "\n",
        "history_model_2 = model_2.fit(train_data, steps_per_epoch=len(train_data), \n",
        "                              validation_data=val_data, validation_steps=len(val_data),\n",
        "                              epochs=10)"
      ],
      "execution_count": null,
      "outputs": [
        {
          "output_type": "stream",
          "text": [
            "Epoch 1/10\n",
            "215/215 [==============================] - 42s 156ms/step - loss: nan - accuracy: 0.2220 - val_loss: nan - val_accuracy: 0.2215\n",
            "Epoch 2/10\n",
            "215/215 [==============================] - 29s 135ms/step - loss: nan - accuracy: 0.2210 - val_loss: nan - val_accuracy: 0.2215\n",
            "Epoch 3/10\n",
            "215/215 [==============================] - 31s 142ms/step - loss: nan - accuracy: 0.2210 - val_loss: nan - val_accuracy: 0.2215\n",
            "Epoch 4/10\n",
            "111/215 [==============>...............] - ETA: 14s - loss: nan - accuracy: 0.2230"
          ],
          "name": "stdout"
        },
        {
          "output_type": "error",
          "ename": "KeyboardInterrupt",
          "evalue": "ignored",
          "traceback": [
            "\u001b[0;31m---------------------------------------------------------------------------\u001b[0m",
            "\u001b[0;31mKeyboardInterrupt\u001b[0m                         Traceback (most recent call last)",
            "\u001b[0;32m<ipython-input-31-b1d9deff3d3c>\u001b[0m in \u001b[0;36m<module>\u001b[0;34m()\u001b[0m\n\u001b[1;32m     15\u001b[0m history_model_2 = model_2.fit(train_data, steps_per_epoch=len(train_data), \n\u001b[1;32m     16\u001b[0m                               \u001b[0mvalidation_data\u001b[0m\u001b[0;34m=\u001b[0m\u001b[0mval_data\u001b[0m\u001b[0;34m,\u001b[0m \u001b[0mvalidation_steps\u001b[0m\u001b[0;34m=\u001b[0m\u001b[0mlen\u001b[0m\u001b[0;34m(\u001b[0m\u001b[0mval_data\u001b[0m\u001b[0;34m)\u001b[0m\u001b[0;34m,\u001b[0m\u001b[0;34m\u001b[0m\u001b[0;34m\u001b[0m\u001b[0m\n\u001b[0;32m---> 17\u001b[0;31m                               epochs=10)\n\u001b[0m",
            "\u001b[0;32m/usr/local/lib/python3.7/dist-packages/tensorflow/python/keras/engine/training.py\u001b[0m in \u001b[0;36mfit\u001b[0;34m(self, x, y, batch_size, epochs, verbose, callbacks, validation_split, validation_data, shuffle, class_weight, sample_weight, initial_epoch, steps_per_epoch, validation_steps, validation_batch_size, validation_freq, max_queue_size, workers, use_multiprocessing)\u001b[0m\n\u001b[1;32m   1181\u001b[0m                 _r=1):\n\u001b[1;32m   1182\u001b[0m               \u001b[0mcallbacks\u001b[0m\u001b[0;34m.\u001b[0m\u001b[0mon_train_batch_begin\u001b[0m\u001b[0;34m(\u001b[0m\u001b[0mstep\u001b[0m\u001b[0;34m)\u001b[0m\u001b[0;34m\u001b[0m\u001b[0;34m\u001b[0m\u001b[0m\n\u001b[0;32m-> 1183\u001b[0;31m               \u001b[0mtmp_logs\u001b[0m \u001b[0;34m=\u001b[0m \u001b[0mself\u001b[0m\u001b[0;34m.\u001b[0m\u001b[0mtrain_function\u001b[0m\u001b[0;34m(\u001b[0m\u001b[0miterator\u001b[0m\u001b[0;34m)\u001b[0m\u001b[0;34m\u001b[0m\u001b[0;34m\u001b[0m\u001b[0m\n\u001b[0m\u001b[1;32m   1184\u001b[0m               \u001b[0;32mif\u001b[0m \u001b[0mdata_handler\u001b[0m\u001b[0;34m.\u001b[0m\u001b[0mshould_sync\u001b[0m\u001b[0;34m:\u001b[0m\u001b[0;34m\u001b[0m\u001b[0;34m\u001b[0m\u001b[0m\n\u001b[1;32m   1185\u001b[0m                 \u001b[0mcontext\u001b[0m\u001b[0;34m.\u001b[0m\u001b[0masync_wait\u001b[0m\u001b[0;34m(\u001b[0m\u001b[0;34m)\u001b[0m\u001b[0;34m\u001b[0m\u001b[0;34m\u001b[0m\u001b[0m\n",
            "\u001b[0;32m/usr/local/lib/python3.7/dist-packages/tensorflow/python/eager/def_function.py\u001b[0m in \u001b[0;36m__call__\u001b[0;34m(self, *args, **kwds)\u001b[0m\n\u001b[1;32m    887\u001b[0m \u001b[0;34m\u001b[0m\u001b[0m\n\u001b[1;32m    888\u001b[0m       \u001b[0;32mwith\u001b[0m \u001b[0mOptionalXlaContext\u001b[0m\u001b[0;34m(\u001b[0m\u001b[0mself\u001b[0m\u001b[0;34m.\u001b[0m\u001b[0m_jit_compile\u001b[0m\u001b[0;34m)\u001b[0m\u001b[0;34m:\u001b[0m\u001b[0;34m\u001b[0m\u001b[0;34m\u001b[0m\u001b[0m\n\u001b[0;32m--> 889\u001b[0;31m         \u001b[0mresult\u001b[0m \u001b[0;34m=\u001b[0m \u001b[0mself\u001b[0m\u001b[0;34m.\u001b[0m\u001b[0m_call\u001b[0m\u001b[0;34m(\u001b[0m\u001b[0;34m*\u001b[0m\u001b[0margs\u001b[0m\u001b[0;34m,\u001b[0m \u001b[0;34m**\u001b[0m\u001b[0mkwds\u001b[0m\u001b[0;34m)\u001b[0m\u001b[0;34m\u001b[0m\u001b[0;34m\u001b[0m\u001b[0m\n\u001b[0m\u001b[1;32m    890\u001b[0m \u001b[0;34m\u001b[0m\u001b[0m\n\u001b[1;32m    891\u001b[0m       \u001b[0mnew_tracing_count\u001b[0m \u001b[0;34m=\u001b[0m \u001b[0mself\u001b[0m\u001b[0;34m.\u001b[0m\u001b[0mexperimental_get_tracing_count\u001b[0m\u001b[0;34m(\u001b[0m\u001b[0;34m)\u001b[0m\u001b[0;34m\u001b[0m\u001b[0;34m\u001b[0m\u001b[0m\n",
            "\u001b[0;32m/usr/local/lib/python3.7/dist-packages/tensorflow/python/eager/def_function.py\u001b[0m in \u001b[0;36m_call\u001b[0;34m(self, *args, **kwds)\u001b[0m\n\u001b[1;32m    915\u001b[0m       \u001b[0;31m# In this case we have created variables on the first call, so we run the\u001b[0m\u001b[0;34m\u001b[0m\u001b[0;34m\u001b[0m\u001b[0;34m\u001b[0m\u001b[0m\n\u001b[1;32m    916\u001b[0m       \u001b[0;31m# defunned version which is guaranteed to never create variables.\u001b[0m\u001b[0;34m\u001b[0m\u001b[0;34m\u001b[0m\u001b[0;34m\u001b[0m\u001b[0m\n\u001b[0;32m--> 917\u001b[0;31m       \u001b[0;32mreturn\u001b[0m \u001b[0mself\u001b[0m\u001b[0;34m.\u001b[0m\u001b[0m_stateless_fn\u001b[0m\u001b[0;34m(\u001b[0m\u001b[0;34m*\u001b[0m\u001b[0margs\u001b[0m\u001b[0;34m,\u001b[0m \u001b[0;34m**\u001b[0m\u001b[0mkwds\u001b[0m\u001b[0;34m)\u001b[0m  \u001b[0;31m# pylint: disable=not-callable\u001b[0m\u001b[0;34m\u001b[0m\u001b[0;34m\u001b[0m\u001b[0m\n\u001b[0m\u001b[1;32m    918\u001b[0m     \u001b[0;32melif\u001b[0m \u001b[0mself\u001b[0m\u001b[0;34m.\u001b[0m\u001b[0m_stateful_fn\u001b[0m \u001b[0;32mis\u001b[0m \u001b[0;32mnot\u001b[0m \u001b[0;32mNone\u001b[0m\u001b[0;34m:\u001b[0m\u001b[0;34m\u001b[0m\u001b[0;34m\u001b[0m\u001b[0m\n\u001b[1;32m    919\u001b[0m       \u001b[0;31m# Release the lock early so that multiple threads can perform the call\u001b[0m\u001b[0;34m\u001b[0m\u001b[0;34m\u001b[0m\u001b[0;34m\u001b[0m\u001b[0m\n",
            "\u001b[0;32m/usr/local/lib/python3.7/dist-packages/tensorflow/python/eager/function.py\u001b[0m in \u001b[0;36m__call__\u001b[0;34m(self, *args, **kwargs)\u001b[0m\n\u001b[1;32m   3022\u001b[0m        filtered_flat_args) = self._maybe_define_function(args, kwargs)\n\u001b[1;32m   3023\u001b[0m     return graph_function._call_flat(\n\u001b[0;32m-> 3024\u001b[0;31m         filtered_flat_args, captured_inputs=graph_function.captured_inputs)  # pylint: disable=protected-access\n\u001b[0m\u001b[1;32m   3025\u001b[0m \u001b[0;34m\u001b[0m\u001b[0m\n\u001b[1;32m   3026\u001b[0m   \u001b[0;34m@\u001b[0m\u001b[0mproperty\u001b[0m\u001b[0;34m\u001b[0m\u001b[0;34m\u001b[0m\u001b[0m\n",
            "\u001b[0;32m/usr/local/lib/python3.7/dist-packages/tensorflow/python/eager/function.py\u001b[0m in \u001b[0;36m_call_flat\u001b[0;34m(self, args, captured_inputs, cancellation_manager)\u001b[0m\n\u001b[1;32m   1959\u001b[0m       \u001b[0;31m# No tape is watching; skip to running the function.\u001b[0m\u001b[0;34m\u001b[0m\u001b[0;34m\u001b[0m\u001b[0;34m\u001b[0m\u001b[0m\n\u001b[1;32m   1960\u001b[0m       return self._build_call_outputs(self._inference_function.call(\n\u001b[0;32m-> 1961\u001b[0;31m           ctx, args, cancellation_manager=cancellation_manager))\n\u001b[0m\u001b[1;32m   1962\u001b[0m     forward_backward = self._select_forward_and_backward_functions(\n\u001b[1;32m   1963\u001b[0m         \u001b[0margs\u001b[0m\u001b[0;34m,\u001b[0m\u001b[0;34m\u001b[0m\u001b[0;34m\u001b[0m\u001b[0m\n",
            "\u001b[0;32m/usr/local/lib/python3.7/dist-packages/tensorflow/python/eager/function.py\u001b[0m in \u001b[0;36mcall\u001b[0;34m(self, ctx, args, cancellation_manager)\u001b[0m\n\u001b[1;32m    594\u001b[0m               \u001b[0minputs\u001b[0m\u001b[0;34m=\u001b[0m\u001b[0margs\u001b[0m\u001b[0;34m,\u001b[0m\u001b[0;34m\u001b[0m\u001b[0;34m\u001b[0m\u001b[0m\n\u001b[1;32m    595\u001b[0m               \u001b[0mattrs\u001b[0m\u001b[0;34m=\u001b[0m\u001b[0mattrs\u001b[0m\u001b[0;34m,\u001b[0m\u001b[0;34m\u001b[0m\u001b[0;34m\u001b[0m\u001b[0m\n\u001b[0;32m--> 596\u001b[0;31m               ctx=ctx)\n\u001b[0m\u001b[1;32m    597\u001b[0m         \u001b[0;32melse\u001b[0m\u001b[0;34m:\u001b[0m\u001b[0;34m\u001b[0m\u001b[0;34m\u001b[0m\u001b[0m\n\u001b[1;32m    598\u001b[0m           outputs = execute.execute_with_cancellation(\n",
            "\u001b[0;32m/usr/local/lib/python3.7/dist-packages/tensorflow/python/eager/execute.py\u001b[0m in \u001b[0;36mquick_execute\u001b[0;34m(op_name, num_outputs, inputs, attrs, ctx, name)\u001b[0m\n\u001b[1;32m     58\u001b[0m     \u001b[0mctx\u001b[0m\u001b[0;34m.\u001b[0m\u001b[0mensure_initialized\u001b[0m\u001b[0;34m(\u001b[0m\u001b[0;34m)\u001b[0m\u001b[0;34m\u001b[0m\u001b[0;34m\u001b[0m\u001b[0m\n\u001b[1;32m     59\u001b[0m     tensors = pywrap_tfe.TFE_Py_Execute(ctx._handle, device_name, op_name,\n\u001b[0;32m---> 60\u001b[0;31m                                         inputs, attrs, num_outputs)\n\u001b[0m\u001b[1;32m     61\u001b[0m   \u001b[0;32mexcept\u001b[0m \u001b[0mcore\u001b[0m\u001b[0;34m.\u001b[0m\u001b[0m_NotOkStatusException\u001b[0m \u001b[0;32mas\u001b[0m \u001b[0me\u001b[0m\u001b[0;34m:\u001b[0m\u001b[0;34m\u001b[0m\u001b[0;34m\u001b[0m\u001b[0m\n\u001b[1;32m     62\u001b[0m     \u001b[0;32mif\u001b[0m \u001b[0mname\u001b[0m \u001b[0;32mis\u001b[0m \u001b[0;32mnot\u001b[0m \u001b[0;32mNone\u001b[0m\u001b[0;34m:\u001b[0m\u001b[0;34m\u001b[0m\u001b[0;34m\u001b[0m\u001b[0m\n",
            "\u001b[0;31mKeyboardInterrupt\u001b[0m: "
          ]
        }
      ]
    },
    {
      "cell_type": "code",
      "metadata": {
        "id": "xhT68FXSkaeJ"
      },
      "source": [
        ""
      ],
      "execution_count": null,
      "outputs": []
    },
    {
      "cell_type": "markdown",
      "metadata": {
        "id": "ssfyrusUkabw"
      },
      "source": [
        "### Model 3 - USE with Dense layers\n",
        "\n",
        "(Bad idea again.)"
      ]
    },
    {
      "cell_type": "code",
      "metadata": {
        "id": "Q6yxGIFZm2dJ"
      },
      "source": [
        "import tensorflow_hub as hub"
      ],
      "execution_count": null,
      "outputs": []
    },
    {
      "cell_type": "code",
      "metadata": {
        "id": "uWuXJvp2kaZh"
      },
      "source": [
        "universal_sentence_encoder = hub.KerasLayer(\"https://tfhub.dev/google/universal-sentence-encoder/4\", trainable=False, \n",
        "                                            name=\"universal_sentence_encoder\")"
      ],
      "execution_count": null,
      "outputs": []
    },
    {
      "cell_type": "code",
      "metadata": {
        "colab": {
          "base_uri": "https://localhost:8080/"
        },
        "id": "hqvmZ3E7mz4i",
        "outputId": "1168edce-7ee7-4b5b-dcf5-b453be66c131"
      },
      "source": [
        "inputs = keras.layers.Input(shape=[], dtype=tf.string)\n",
        "use = universal_sentence_encoder(inputs)\n",
        "x = keras.layers.Dense(128, activation=\"relu\")(use)\n",
        "x = keras.layers.Dense(64, activation=\"relu\")(x)\n",
        "outputs = keras.layers.Dense(3, activation=\"softmax\")(x)\n",
        "\n",
        "model_3 = keras.Model(inputs, outputs)\n",
        "\n",
        "model_3.compile(loss=keras.losses.SparseCategoricalCrossentropy(), optimizer=keras.optimizers.Adam(),\n",
        "                metrics=[\"accuracy\"])\n",
        "\n",
        "history_model_3 = model_3.fit(train_data, epochs=10, steps_per_epoch=len(train_data), \n",
        "                              validation_data=val_data, validation_steps=len(val_data))"
      ],
      "execution_count": null,
      "outputs": [
        {
          "output_type": "stream",
          "text": [
            "Epoch 1/10\n",
            "215/215 [==============================] - 10s 36ms/step - loss: nan - accuracy: 0.2220 - val_loss: nan - val_accuracy: 0.2215\n",
            "Epoch 2/10\n",
            "215/215 [==============================] - 7s 35ms/step - loss: nan - accuracy: 0.2210 - val_loss: nan - val_accuracy: 0.2215\n",
            "Epoch 3/10\n",
            "215/215 [==============================] - 7s 35ms/step - loss: nan - accuracy: 0.2210 - val_loss: nan - val_accuracy: 0.2215\n",
            "Epoch 4/10\n",
            "215/215 [==============================] - 7s 35ms/step - loss: nan - accuracy: 0.2210 - val_loss: nan - val_accuracy: 0.2215\n",
            "Epoch 5/10\n",
            "215/215 [==============================] - 7s 34ms/step - loss: nan - accuracy: 0.2210 - val_loss: nan - val_accuracy: 0.2215\n",
            "Epoch 6/10\n",
            "215/215 [==============================] - 7s 34ms/step - loss: nan - accuracy: 0.2210 - val_loss: nan - val_accuracy: 0.2215\n",
            "Epoch 7/10\n",
            "215/215 [==============================] - 7s 35ms/step - loss: nan - accuracy: 0.2210 - val_loss: nan - val_accuracy: 0.2215\n",
            "Epoch 8/10\n",
            "215/215 [==============================] - 7s 35ms/step - loss: nan - accuracy: 0.2210 - val_loss: nan - val_accuracy: 0.2215\n",
            "Epoch 9/10\n",
            "215/215 [==============================] - 7s 34ms/step - loss: nan - accuracy: 0.2210 - val_loss: nan - val_accuracy: 0.2215\n",
            "Epoch 10/10\n",
            "215/215 [==============================] - 7s 33ms/step - loss: nan - accuracy: 0.2210 - val_loss: nan - val_accuracy: 0.2215\n"
          ],
          "name": "stdout"
        }
      ]
    },
    {
      "cell_type": "markdown",
      "metadata": {
        "id": "DLKknpqnn_UY"
      },
      "source": [
        "### Model 4 - Stacking LSTM, GRU and CNN \n",
        "\n",
        "(Bad idea again. Think, think...)"
      ]
    },
    {
      "cell_type": "code",
      "metadata": {
        "colab": {
          "base_uri": "https://localhost:8080/",
          "height": 576
        },
        "id": "rD-IMkx1oc_-",
        "outputId": "57f2bbe4-57ec-41fd-8ad5-a6837c62b597"
      },
      "source": [
        "inputs = keras.layers.Input(shape=(1,), dtype=tf.string)\n",
        "x = text_vectorizer(inputs)\n",
        "x = embedding(x)\n",
        "x = keras.layers.LSTM(64, return_sequences=True)(x)\n",
        "x = keras.layers.GRU(64, return_sequences=True)(x)\n",
        "x = keras.layers.Conv1D(128,5, activation=\"relu\")(x)\n",
        "x = keras.layers.GlobalMaxPooling1D()(x)\n",
        "outputs = keras.layers.Dense(3, activation=\"softmax\")(x)\n",
        "\n",
        "model_4 = keras.Model(inputs, outputs)\n",
        "\n",
        "model_4.compile(loss=keras.losses.SparseCategoricalCrossentropy(), \n",
        "                optimizer=keras.optimizers.Adam(), metrics=[\"accuracy\"])\n",
        "\n",
        "history_model_4 = model_4.fit(train_data, epochs=10, validation_data=val_data,\n",
        "                              steps_per_epoch=len(train_data), validation_steps=len(val_data))"
      ],
      "execution_count": null,
      "outputs": [
        {
          "output_type": "stream",
          "text": [
            "Epoch 1/10\n",
            "215/215 [==============================] - 25s 83ms/step - loss: nan - accuracy: 0.2210 - val_loss: nan - val_accuracy: 0.2215\n",
            "Epoch 2/10\n",
            "215/215 [==============================] - 15s 71ms/step - loss: nan - accuracy: 0.2210 - val_loss: nan - val_accuracy: 0.2215\n",
            "Epoch 3/10\n",
            "215/215 [==============================] - 15s 72ms/step - loss: nan - accuracy: 0.2210 - val_loss: nan - val_accuracy: 0.2215\n",
            "Epoch 4/10\n",
            "215/215 [==============================] - 15s 72ms/step - loss: nan - accuracy: 0.2210 - val_loss: nan - val_accuracy: 0.2215\n",
            "Epoch 5/10\n",
            "215/215 [==============================] - 16s 76ms/step - loss: nan - accuracy: 0.2210 - val_loss: nan - val_accuracy: 0.2215\n",
            "Epoch 6/10\n",
            " 52/215 [======>.......................] - ETA: 11s - loss: nan - accuracy: 0.2254"
          ],
          "name": "stdout"
        },
        {
          "output_type": "error",
          "ename": "KeyboardInterrupt",
          "evalue": "ignored",
          "traceback": [
            "\u001b[0;31m---------------------------------------------------------------------------\u001b[0m",
            "\u001b[0;31mKeyboardInterrupt\u001b[0m                         Traceback (most recent call last)",
            "\u001b[0;32m<ipython-input-29-62fbd0bd6d2b>\u001b[0m in \u001b[0;36m<module>\u001b[0;34m()\u001b[0m\n\u001b[1;32m     14\u001b[0m \u001b[0;34m\u001b[0m\u001b[0m\n\u001b[1;32m     15\u001b[0m history_model_4 = model_4.fit(train_data, epochs=10, validation_data=val_data,\n\u001b[0;32m---> 16\u001b[0;31m                               steps_per_epoch=len(train_data), validation_steps=len(val_data))\n\u001b[0m",
            "\u001b[0;32m/usr/local/lib/python3.7/dist-packages/tensorflow/python/keras/engine/training.py\u001b[0m in \u001b[0;36mfit\u001b[0;34m(self, x, y, batch_size, epochs, verbose, callbacks, validation_split, validation_data, shuffle, class_weight, sample_weight, initial_epoch, steps_per_epoch, validation_steps, validation_batch_size, validation_freq, max_queue_size, workers, use_multiprocessing)\u001b[0m\n\u001b[1;32m   1181\u001b[0m                 _r=1):\n\u001b[1;32m   1182\u001b[0m               \u001b[0mcallbacks\u001b[0m\u001b[0;34m.\u001b[0m\u001b[0mon_train_batch_begin\u001b[0m\u001b[0;34m(\u001b[0m\u001b[0mstep\u001b[0m\u001b[0;34m)\u001b[0m\u001b[0;34m\u001b[0m\u001b[0;34m\u001b[0m\u001b[0m\n\u001b[0;32m-> 1183\u001b[0;31m               \u001b[0mtmp_logs\u001b[0m \u001b[0;34m=\u001b[0m \u001b[0mself\u001b[0m\u001b[0;34m.\u001b[0m\u001b[0mtrain_function\u001b[0m\u001b[0;34m(\u001b[0m\u001b[0miterator\u001b[0m\u001b[0;34m)\u001b[0m\u001b[0;34m\u001b[0m\u001b[0;34m\u001b[0m\u001b[0m\n\u001b[0m\u001b[1;32m   1184\u001b[0m               \u001b[0;32mif\u001b[0m \u001b[0mdata_handler\u001b[0m\u001b[0;34m.\u001b[0m\u001b[0mshould_sync\u001b[0m\u001b[0;34m:\u001b[0m\u001b[0;34m\u001b[0m\u001b[0;34m\u001b[0m\u001b[0m\n\u001b[1;32m   1185\u001b[0m                 \u001b[0mcontext\u001b[0m\u001b[0;34m.\u001b[0m\u001b[0masync_wait\u001b[0m\u001b[0;34m(\u001b[0m\u001b[0;34m)\u001b[0m\u001b[0;34m\u001b[0m\u001b[0;34m\u001b[0m\u001b[0m\n",
            "\u001b[0;32m/usr/local/lib/python3.7/dist-packages/tensorflow/python/eager/def_function.py\u001b[0m in \u001b[0;36m__call__\u001b[0;34m(self, *args, **kwds)\u001b[0m\n\u001b[1;32m    887\u001b[0m \u001b[0;34m\u001b[0m\u001b[0m\n\u001b[1;32m    888\u001b[0m       \u001b[0;32mwith\u001b[0m \u001b[0mOptionalXlaContext\u001b[0m\u001b[0;34m(\u001b[0m\u001b[0mself\u001b[0m\u001b[0;34m.\u001b[0m\u001b[0m_jit_compile\u001b[0m\u001b[0;34m)\u001b[0m\u001b[0;34m:\u001b[0m\u001b[0;34m\u001b[0m\u001b[0;34m\u001b[0m\u001b[0m\n\u001b[0;32m--> 889\u001b[0;31m         \u001b[0mresult\u001b[0m \u001b[0;34m=\u001b[0m \u001b[0mself\u001b[0m\u001b[0;34m.\u001b[0m\u001b[0m_call\u001b[0m\u001b[0;34m(\u001b[0m\u001b[0;34m*\u001b[0m\u001b[0margs\u001b[0m\u001b[0;34m,\u001b[0m \u001b[0;34m**\u001b[0m\u001b[0mkwds\u001b[0m\u001b[0;34m)\u001b[0m\u001b[0;34m\u001b[0m\u001b[0;34m\u001b[0m\u001b[0m\n\u001b[0m\u001b[1;32m    890\u001b[0m \u001b[0;34m\u001b[0m\u001b[0m\n\u001b[1;32m    891\u001b[0m       \u001b[0mnew_tracing_count\u001b[0m \u001b[0;34m=\u001b[0m \u001b[0mself\u001b[0m\u001b[0;34m.\u001b[0m\u001b[0mexperimental_get_tracing_count\u001b[0m\u001b[0;34m(\u001b[0m\u001b[0;34m)\u001b[0m\u001b[0;34m\u001b[0m\u001b[0;34m\u001b[0m\u001b[0m\n",
            "\u001b[0;32m/usr/local/lib/python3.7/dist-packages/tensorflow/python/eager/def_function.py\u001b[0m in \u001b[0;36m_call\u001b[0;34m(self, *args, **kwds)\u001b[0m\n\u001b[1;32m    915\u001b[0m       \u001b[0;31m# In this case we have created variables on the first call, so we run the\u001b[0m\u001b[0;34m\u001b[0m\u001b[0;34m\u001b[0m\u001b[0;34m\u001b[0m\u001b[0m\n\u001b[1;32m    916\u001b[0m       \u001b[0;31m# defunned version which is guaranteed to never create variables.\u001b[0m\u001b[0;34m\u001b[0m\u001b[0;34m\u001b[0m\u001b[0;34m\u001b[0m\u001b[0m\n\u001b[0;32m--> 917\u001b[0;31m       \u001b[0;32mreturn\u001b[0m \u001b[0mself\u001b[0m\u001b[0;34m.\u001b[0m\u001b[0m_stateless_fn\u001b[0m\u001b[0;34m(\u001b[0m\u001b[0;34m*\u001b[0m\u001b[0margs\u001b[0m\u001b[0;34m,\u001b[0m \u001b[0;34m**\u001b[0m\u001b[0mkwds\u001b[0m\u001b[0;34m)\u001b[0m  \u001b[0;31m# pylint: disable=not-callable\u001b[0m\u001b[0;34m\u001b[0m\u001b[0;34m\u001b[0m\u001b[0m\n\u001b[0m\u001b[1;32m    918\u001b[0m     \u001b[0;32melif\u001b[0m \u001b[0mself\u001b[0m\u001b[0;34m.\u001b[0m\u001b[0m_stateful_fn\u001b[0m \u001b[0;32mis\u001b[0m \u001b[0;32mnot\u001b[0m \u001b[0;32mNone\u001b[0m\u001b[0;34m:\u001b[0m\u001b[0;34m\u001b[0m\u001b[0;34m\u001b[0m\u001b[0m\n\u001b[1;32m    919\u001b[0m       \u001b[0;31m# Release the lock early so that multiple threads can perform the call\u001b[0m\u001b[0;34m\u001b[0m\u001b[0;34m\u001b[0m\u001b[0;34m\u001b[0m\u001b[0m\n",
            "\u001b[0;32m/usr/local/lib/python3.7/dist-packages/tensorflow/python/eager/function.py\u001b[0m in \u001b[0;36m__call__\u001b[0;34m(self, *args, **kwargs)\u001b[0m\n\u001b[1;32m   3022\u001b[0m        filtered_flat_args) = self._maybe_define_function(args, kwargs)\n\u001b[1;32m   3023\u001b[0m     return graph_function._call_flat(\n\u001b[0;32m-> 3024\u001b[0;31m         filtered_flat_args, captured_inputs=graph_function.captured_inputs)  # pylint: disable=protected-access\n\u001b[0m\u001b[1;32m   3025\u001b[0m \u001b[0;34m\u001b[0m\u001b[0m\n\u001b[1;32m   3026\u001b[0m   \u001b[0;34m@\u001b[0m\u001b[0mproperty\u001b[0m\u001b[0;34m\u001b[0m\u001b[0;34m\u001b[0m\u001b[0m\n",
            "\u001b[0;32m/usr/local/lib/python3.7/dist-packages/tensorflow/python/eager/function.py\u001b[0m in \u001b[0;36m_call_flat\u001b[0;34m(self, args, captured_inputs, cancellation_manager)\u001b[0m\n\u001b[1;32m   1959\u001b[0m       \u001b[0;31m# No tape is watching; skip to running the function.\u001b[0m\u001b[0;34m\u001b[0m\u001b[0;34m\u001b[0m\u001b[0;34m\u001b[0m\u001b[0m\n\u001b[1;32m   1960\u001b[0m       return self._build_call_outputs(self._inference_function.call(\n\u001b[0;32m-> 1961\u001b[0;31m           ctx, args, cancellation_manager=cancellation_manager))\n\u001b[0m\u001b[1;32m   1962\u001b[0m     forward_backward = self._select_forward_and_backward_functions(\n\u001b[1;32m   1963\u001b[0m         \u001b[0margs\u001b[0m\u001b[0;34m,\u001b[0m\u001b[0;34m\u001b[0m\u001b[0;34m\u001b[0m\u001b[0m\n",
            "\u001b[0;32m/usr/local/lib/python3.7/dist-packages/tensorflow/python/eager/function.py\u001b[0m in \u001b[0;36mcall\u001b[0;34m(self, ctx, args, cancellation_manager)\u001b[0m\n\u001b[1;32m    594\u001b[0m               \u001b[0minputs\u001b[0m\u001b[0;34m=\u001b[0m\u001b[0margs\u001b[0m\u001b[0;34m,\u001b[0m\u001b[0;34m\u001b[0m\u001b[0;34m\u001b[0m\u001b[0m\n\u001b[1;32m    595\u001b[0m               \u001b[0mattrs\u001b[0m\u001b[0;34m=\u001b[0m\u001b[0mattrs\u001b[0m\u001b[0;34m,\u001b[0m\u001b[0;34m\u001b[0m\u001b[0;34m\u001b[0m\u001b[0m\n\u001b[0;32m--> 596\u001b[0;31m               ctx=ctx)\n\u001b[0m\u001b[1;32m    597\u001b[0m         \u001b[0;32melse\u001b[0m\u001b[0;34m:\u001b[0m\u001b[0;34m\u001b[0m\u001b[0;34m\u001b[0m\u001b[0m\n\u001b[1;32m    598\u001b[0m           outputs = execute.execute_with_cancellation(\n",
            "\u001b[0;32m/usr/local/lib/python3.7/dist-packages/tensorflow/python/eager/execute.py\u001b[0m in \u001b[0;36mquick_execute\u001b[0;34m(op_name, num_outputs, inputs, attrs, ctx, name)\u001b[0m\n\u001b[1;32m     58\u001b[0m     \u001b[0mctx\u001b[0m\u001b[0;34m.\u001b[0m\u001b[0mensure_initialized\u001b[0m\u001b[0;34m(\u001b[0m\u001b[0;34m)\u001b[0m\u001b[0;34m\u001b[0m\u001b[0;34m\u001b[0m\u001b[0m\n\u001b[1;32m     59\u001b[0m     tensors = pywrap_tfe.TFE_Py_Execute(ctx._handle, device_name, op_name,\n\u001b[0;32m---> 60\u001b[0;31m                                         inputs, attrs, num_outputs)\n\u001b[0m\u001b[1;32m     61\u001b[0m   \u001b[0;32mexcept\u001b[0m \u001b[0mcore\u001b[0m\u001b[0;34m.\u001b[0m\u001b[0m_NotOkStatusException\u001b[0m \u001b[0;32mas\u001b[0m \u001b[0me\u001b[0m\u001b[0;34m:\u001b[0m\u001b[0;34m\u001b[0m\u001b[0;34m\u001b[0m\u001b[0m\n\u001b[1;32m     62\u001b[0m     \u001b[0;32mif\u001b[0m \u001b[0mname\u001b[0m \u001b[0;32mis\u001b[0m \u001b[0;32mnot\u001b[0m \u001b[0;32mNone\u001b[0m\u001b[0;34m:\u001b[0m\u001b[0;34m\u001b[0m\u001b[0;34m\u001b[0m\u001b[0m\n",
            "\u001b[0;31mKeyboardInterrupt\u001b[0m: "
          ]
        }
      ]
    },
    {
      "cell_type": "code",
      "metadata": {
        "id": "guGAc5W0p1bg"
      },
      "source": [
        "model_4.summary()"
      ],
      "execution_count": null,
      "outputs": []
    },
    {
      "cell_type": "markdown",
      "metadata": {
        "id": "5KkTC5RbtW6L"
      },
      "source": [
        "### Model 5 - Modifying the model 1 architecture with the same token level embedding"
      ]
    },
    {
      "cell_type": "code",
      "metadata": {
        "id": "Gi1cPBXrvNIU"
      },
      "source": [
        "text_vect = keras.layers.experimental.preprocessing.TextVectorization(\n",
        "    max_tokens=38000, pad_to_max_tokens=True,\n",
        "    output_sequence_length=210\n",
        ")"
      ],
      "execution_count": null,
      "outputs": []
    },
    {
      "cell_type": "code",
      "metadata": {
        "id": "ybUWHlm4xDA3"
      },
      "source": [
        "text_vect.adapt(train_sentences)"
      ],
      "execution_count": null,
      "outputs": []
    },
    {
      "cell_type": "code",
      "metadata": {
        "colab": {
          "base_uri": "https://localhost:8080/"
        },
        "id": "pSVVW0b9xHBv",
        "outputId": "efcdefa0-a220-4c75-e076-380aed7e1992"
      },
      "source": [
        "vocab = text_vect.get_vocabulary()\n",
        "len(vocab)"
      ],
      "execution_count": null,
      "outputs": [
        {
          "output_type": "execute_result",
          "data": {
            "text/plain": [
              "38000"
            ]
          },
          "metadata": {
            "tags": []
          },
          "execution_count": 23
        }
      ]
    },
    {
      "cell_type": "code",
      "metadata": {
        "colab": {
          "base_uri": "https://localhost:8080/"
        },
        "id": "ukDCXcxlxNkZ",
        "outputId": "f6316606-394f-4e6a-9a8e-03825c5e0dba"
      },
      "source": [
        "vocab[:10], vocab[-10:]"
      ],
      "execution_count": null,
      "outputs": [
        {
          "output_type": "execute_result",
          "data": {
            "text/plain": [
              "(['', '[UNK]', 'the', 'to', 'and', 'of', 'in', 'a', 'is', 'on'],\n",
              " ['bolivia',\n",
              "  'bolangir',\n",
              "  'bola',\n",
              "  'boku',\n",
              "  'boisterous',\n",
              "  'boiling',\n",
              "  'boiler',\n",
              "  'bohra—who',\n",
              "  'bohra',\n",
              "  'bogeys'])"
            ]
          },
          "metadata": {
            "tags": []
          },
          "execution_count": 24
        }
      ]
    },
    {
      "cell_type": "code",
      "metadata": {
        "id": "Uw-Zhr5vxdhg"
      },
      "source": [
        "embedding_layer = keras.layers.Embedding(\n",
        "    input_dim=len(vocab), \n",
        "    output_dim=128,\n",
        "    mask_zero=True\n",
        ")"
      ],
      "execution_count": null,
      "outputs": []
    },
    {
      "cell_type": "code",
      "metadata": {
        "colab": {
          "base_uri": "https://localhost:8080/"
        },
        "id": "eKOIXRBYx0Y-",
        "outputId": "32076b25-4b18-45e5-d7a5-31c40af4ebdf"
      },
      "source": [
        "inputs = keras.layers.Input(shape=(1,), dtype=tf.string)\n",
        "x = text_vectorizer(inputs)\n",
        "x = embedding(x)\n",
        "x = keras.layers.GRU(64, return_sequences=True)(x)\n",
        "x = keras.layers.Conv1D(128, 5, activation=\"relu\")(x)\n",
        "x = keras.layers.MaxPool1D(pool_size=(2))(x)\n",
        "x = keras.layers.GRU(64, return_sequences=True)(x)\n",
        "x = keras.layers.GlobalMaxPooling1D()(x)\n",
        "outputs = keras.layers.Dense(4, activation=\"softmax\")(x)\n",
        "\n",
        "model_5 = keras.Model(inputs, outputs)\n",
        "\n",
        "model_5.compile(loss=keras.losses.SparseCategoricalCrossentropy(), metrics=[\"accuracy\"],\n",
        "                optimizer=keras.optimizers.Adam())\n",
        "\n",
        "history_model_5 = model_5.fit(train_data, epochs=10, \n",
        "                              steps_per_epoch=len(train_data), validation_data=val_data,\n",
        "                              validation_steps=len(val_data))"
      ],
      "execution_count": null,
      "outputs": [
        {
          "output_type": "stream",
          "text": [
            "Epoch 1/10\n",
            "215/215 [==============================] - 20s 73ms/step - loss: 0.4839 - accuracy: 0.8048 - val_loss: 0.1430 - val_accuracy: 0.9528\n",
            "Epoch 2/10\n",
            "215/215 [==============================] - 15s 68ms/step - loss: 0.0695 - accuracy: 0.9809 - val_loss: 0.1049 - val_accuracy: 0.9581\n",
            "Epoch 3/10\n",
            "215/215 [==============================] - 14s 66ms/step - loss: 0.0211 - accuracy: 0.9939 - val_loss: 0.1077 - val_accuracy: 0.9646\n",
            "Epoch 4/10\n",
            "215/215 [==============================] - 14s 66ms/step - loss: 0.0108 - accuracy: 0.9966 - val_loss: 0.1438 - val_accuracy: 0.9594\n",
            "Epoch 5/10\n",
            "215/215 [==============================] - 15s 68ms/step - loss: 0.0111 - accuracy: 0.9964 - val_loss: 0.1200 - val_accuracy: 0.9646\n",
            "Epoch 6/10\n",
            "215/215 [==============================] - 14s 66ms/step - loss: 0.0063 - accuracy: 0.9968 - val_loss: 0.0969 - val_accuracy: 0.9712\n",
            "Epoch 7/10\n",
            "215/215 [==============================] - 14s 65ms/step - loss: 0.0058 - accuracy: 0.9966 - val_loss: 0.0966 - val_accuracy: 0.9725\n",
            "Epoch 8/10\n",
            "215/215 [==============================] - 14s 66ms/step - loss: 0.0055 - accuracy: 0.9965 - val_loss: 0.0983 - val_accuracy: 0.9738\n",
            "Epoch 9/10\n",
            "215/215 [==============================] - 15s 68ms/step - loss: 0.0054 - accuracy: 0.9966 - val_loss: 0.0996 - val_accuracy: 0.9764\n",
            "Epoch 10/10\n",
            "215/215 [==============================] - 15s 68ms/step - loss: 0.0053 - accuracy: 0.9966 - val_loss: 0.1013 - val_accuracy: 0.9764\n"
          ],
          "name": "stdout"
        }
      ]
    },
    {
      "cell_type": "code",
      "metadata": {
        "id": "PWuC_FK4yzJf",
        "colab": {
          "base_uri": "https://localhost:8080/"
        },
        "outputId": "b6a3fe39-3051-4b72-fbfd-bb2d0564c78a"
      },
      "source": [
        "model_5.evaluate(val_data)"
      ],
      "execution_count": null,
      "outputs": [
        {
          "output_type": "stream",
          "text": [
            "24/24 [==============================] - 0s 15ms/step - loss: 0.1013 - accuracy: 0.9764\n"
          ],
          "name": "stdout"
        },
        {
          "output_type": "execute_result",
          "data": {
            "text/plain": [
              "[0.10133987665176392, 0.9764088988304138]"
            ]
          },
          "metadata": {
            "tags": []
          },
          "execution_count": 38
        }
      ]
    },
    {
      "cell_type": "code",
      "metadata": {
        "colab": {
          "base_uri": "https://localhost:8080/"
        },
        "id": "NiYKQ2j5KUma",
        "outputId": "2f8aa9e2-82bf-4f1c-f992-8b8e6b75dd30"
      },
      "source": [
        "model_5_test_preds = tf.argmax(model_5.predict(test_df[\"STORY\"].to_numpy()), axis=1)\n",
        "model_5_test_preds"
      ],
      "execution_count": null,
      "outputs": [
        {
          "output_type": "execute_result",
          "data": {
            "text/plain": [
              "<tf.Tensor: shape=(2748,), dtype=int64, numpy=array([1, 2, 1, ..., 1, 0, 1])>"
            ]
          },
          "metadata": {
            "tags": []
          },
          "execution_count": 39
        }
      ]
    },
    {
      "cell_type": "code",
      "metadata": {
        "id": "Hi3-0ky5KkJa"
      },
      "source": [
        "model_5_preds = pd.DataFrame(model_5_test_preds)\n",
        "model_5_preds.columns = [\"SECTION\"]"
      ],
      "execution_count": null,
      "outputs": []
    },
    {
      "cell_type": "code",
      "metadata": {
        "colab": {
          "base_uri": "https://localhost:8080/"
        },
        "id": "FY4sXt8xK1uP",
        "outputId": "e22bcbe2-30ca-45a6-b1bf-4331d77dccb5"
      },
      "source": [
        "model_5_preds.SECTION.value_counts()"
      ],
      "execution_count": null,
      "outputs": [
        {
          "output_type": "execute_result",
          "data": {
            "text/plain": [
              "1    1175\n",
              "2     837\n",
              "0     414\n",
              "3     322\n",
              "Name: SECTION, dtype: int64"
            ]
          },
          "metadata": {
            "tags": []
          },
          "execution_count": 43
        }
      ]
    },
    {
      "cell_type": "code",
      "metadata": {
        "id": "QBFEZ415K29D"
      },
      "source": [
        "model_5_preds.to_csv(\"model_5_test_preds.csv\", index=False)"
      ],
      "execution_count": null,
      "outputs": []
    },
    {
      "cell_type": "code",
      "metadata": {
        "id": "-ihqdcDMLCHG"
      },
      "source": [
        ""
      ],
      "execution_count": null,
      "outputs": []
    },
    {
      "cell_type": "markdown",
      "metadata": {
        "id": "5UNyPc8UMlBb"
      },
      "source": [
        "### Model 6 - Character level embedding and replicating the same architecture as model 5"
      ]
    },
    {
      "cell_type": "code",
      "metadata": {
        "id": "vYaZr6NZMk-h"
      },
      "source": [
        "def split_characters(text):\n",
        "\n",
        "  return \" \".join(list(text))"
      ],
      "execution_count": null,
      "outputs": []
    },
    {
      "cell_type": "code",
      "metadata": {
        "id": "2_H39dhgMk78"
      },
      "source": [
        "train_chars = [split_characters(x) for x in train_sentences]\n",
        "val_chars = [split_characters(x) for x in val_sentences]"
      ],
      "execution_count": null,
      "outputs": []
    },
    {
      "cell_type": "code",
      "metadata": {
        "colab": {
          "base_uri": "https://localhost:8080/"
        },
        "id": "ODB6WpNAMk6D",
        "outputId": "3a6b28ab-f0f8-4215-d84b-a98e5b8f9799"
      },
      "source": [
        "char_lens = [len(x) for x in train_sentences]\n",
        "np.mean(char_lens)"
      ],
      "execution_count": null,
      "outputs": [
        {
          "output_type": "execute_result",
          "data": {
            "text/plain": [
              "651.2825928623453"
            ]
          },
          "metadata": {
            "tags": []
          },
          "execution_count": 48
        }
      ]
    },
    {
      "cell_type": "code",
      "metadata": {
        "colab": {
          "base_uri": "https://localhost:8080/",
          "height": 265
        },
        "id": "GYR7EERrMk14",
        "outputId": "a2955407-be05-42a8-dc59-7f79db87d2a8"
      },
      "source": [
        "plt.hist(char_lens)\n",
        "plt.show()"
      ],
      "execution_count": null,
      "outputs": [
        {
          "output_type": "display_data",
          "data": {
            "image/png": "[encoded data removed]",
            "text/plain": [
              "<Figure size 432x288 with 1 Axes>"
            ]
          },
          "metadata": {
            "tags": [],
            "needs_background": "light"
          }
        }
      ]
    },
    {
      "cell_type": "code",
      "metadata": {
        "colab": {
          "base_uri": "https://localhost:8080/"
        },
        "id": "JEKSw75MMkz6",
        "outputId": "f469a4b7-e452-4be1-cec5-e0292b4433e3"
      },
      "source": [
        "np.percentile(char_lens, 95)"
      ],
      "execution_count": null,
      "outputs": [
        {
          "output_type": "execute_result",
          "data": {
            "text/plain": [
              "1525.0"
            ]
          },
          "metadata": {
            "tags": []
          },
          "execution_count": 50
        }
      ]
    },
    {
      "cell_type": "code",
      "metadata": {
        "id": "IsrHls53Mkwd"
      },
      "source": [
        "import string\n",
        "alphabets = string.ascii_lowercase + string.digits + string.punctuation"
      ],
      "execution_count": null,
      "outputs": []
    },
    {
      "cell_type": "code",
      "metadata": {
        "colab": {
          "base_uri": "https://localhost:8080/",
          "height": 35
        },
        "id": "03CyV7H4Mkug",
        "outputId": "2f188504-5932-46e5-eb79-e5d89645bfd9"
      },
      "source": [
        "alphabets"
      ],
      "execution_count": null,
      "outputs": [
        {
          "output_type": "execute_result",
          "data": {
            "application/vnd.google.colaboratory.intrinsic+json": {
              "type": "string"
            },
            "text/plain": [
              "'abcdefghijklmnopqrstuvwxyz0123456789!\"#$%&\\'()*+,-./:;<=>?@[\\\\]^_`{|}~'"
            ]
          },
          "metadata": {
            "tags": []
          },
          "execution_count": 53
        }
      ]
    },
    {
      "cell_type": "code",
      "metadata": {
        "id": "X2IIski4Mkqj"
      },
      "source": [
        "char_tokens = len(alphabets) + 2"
      ],
      "execution_count": null,
      "outputs": []
    },
    {
      "cell_type": "code",
      "metadata": {
        "id": "ZL_0XWgDQbRu"
      },
      "source": [
        "char_vect = keras.layers.experimental.preprocessing.TextVectorization(\n",
        "    max_tokens = char_tokens, \n",
        "    output_sequence_length=1525,\n",
        "    pad_to_max_tokens=True\n",
        ")"
      ],
      "execution_count": null,
      "outputs": []
    },
    {
      "cell_type": "code",
      "metadata": {
        "id": "lal6WmQwQcnC"
      },
      "source": [
        "char_vect.adapt(train_chars)"
      ],
      "execution_count": null,
      "outputs": []
    },
    {
      "cell_type": "code",
      "metadata": {
        "colab": {
          "base_uri": "https://localhost:8080/"
        },
        "id": "sCwXGyJ9QcuY",
        "outputId": "dba90c5b-c19c-40bb-ae5d-0722aa643670"
      },
      "source": [
        "char_vocab = char_vect.get_vocabulary()\n",
        "char_vocab[:10], char_vocab[-10:], len(char_vocab)"
      ],
      "execution_count": null,
      "outputs": [
        {
          "output_type": "execute_result",
          "data": {
            "text/plain": [
              "(['', '[UNK]', 'e', 'a', 't', 'i', 'o', 'n', 's', 'r'],\n",
              " ['♥', 'ो', 'े', 'र', 'म', 'ñ', '¥', '👍', '⭐', '😘'],\n",
              " 70)"
            ]
          },
          "metadata": {
            "tags": []
          },
          "execution_count": 57
        }
      ]
    },
    {
      "cell_type": "code",
      "metadata": {
        "id": "r5qgnOpMMknN"
      },
      "source": [
        "char_embed = keras.layers.Embedding(\n",
        "    input_dim=len(char_vocab),\n",
        "    output_dim=128, mask_zero=True\n",
        ")"
      ],
      "execution_count": null,
      "outputs": []
    },
    {
      "cell_type": "code",
      "metadata": {
        "id": "2ue8kmxMMkk7"
      },
      "source": [
        "train_chars_dataset = tf.data.Dataset.from_tensor_slices((train_chars, train_labels)).batch(32).prefetch(tf.data.AUTOTUNE)\n",
        "val_chars_dataset = tf.data.Dataset.from_tensor_slices((val_chars, val_labels)).batch(32).prefetch(tf.data.AUTOTUNE)"
      ],
      "execution_count": null,
      "outputs": []
    },
    {
      "cell_type": "code",
      "metadata": {
        "id": "Vq8sNM71RYuh",
        "colab": {
          "base_uri": "https://localhost:8080/"
        },
        "outputId": "eb3a800e-c481-4526-d87d-3382d2a464fa"
      },
      "source": [
        "inputs = keras.layers.Input(shape=(1,), dtype=tf.string)\n",
        "x = char_vect(inputs)\n",
        "x = char_embed(x)\n",
        "x = keras.layers.Conv1D(128, 5, activation=\"relu\")(x)\n",
        "x = keras.layers.MaxPool1D(pool_size=2)(x)\n",
        "x = keras.layers.Conv1D(256, 10, activation=\"relu\")(x)\n",
        "x = keras.layers.GRU(64, return_sequences=True)(x)\n",
        "x = keras.layers.GRU(128, return_sequences=True)(x)\n",
        "x = keras.layers.GlobalMaxPooling1D()(x)\n",
        "x = keras.layers.Dense(128, activation=\"relu\")(x)\n",
        "x = keras.layers.Dropout(0.5)(x)\n",
        "outputs = keras.layers.Dense(4, activation=\"softmax\")(x)\n",
        "\n",
        "model_6 = keras.Model(inputs, outputs)\n",
        "\n",
        "model_6.compile(loss=keras.losses.SparseCategoricalCrossentropy(), metrics=[\"accuracy\"],\n",
        "                optimizer=keras.optimizers.Adam())\n",
        "\n",
        "history_model_6 = model_6.fit(train_chars_dataset, epochs=10, steps_per_epoch=len(train_chars_dataset),\n",
        "                              validation_data=val_chars_dataset, validation_steps=len(val_chars_dataset))"
      ],
      "execution_count": null,
      "outputs": [
        {
          "output_type": "stream",
          "text": [
            "Epoch 1/10\n",
            "215/215 [==============================] - 23s 91ms/step - loss: 0.9198 - accuracy: 0.6153 - val_loss: 0.5910 - val_accuracy: 0.7772\n",
            "Epoch 2/10\n",
            "215/215 [==============================] - 19s 88ms/step - loss: 0.4849 - accuracy: 0.8230 - val_loss: 0.4605 - val_accuracy: 0.8336\n",
            "Epoch 3/10\n",
            "215/215 [==============================] - 19s 88ms/step - loss: 0.3584 - accuracy: 0.8752 - val_loss: 0.4420 - val_accuracy: 0.8427\n",
            "Epoch 4/10\n",
            "215/215 [==============================] - 19s 88ms/step - loss: 0.2823 - accuracy: 0.9091 - val_loss: 0.4470 - val_accuracy: 0.8362\n",
            "Epoch 5/10\n",
            "215/215 [==============================] - 19s 88ms/step - loss: 0.2135 - accuracy: 0.9286 - val_loss: 0.4036 - val_accuracy: 0.8847\n",
            "Epoch 6/10\n",
            "215/215 [==============================] - 19s 88ms/step - loss: 0.1719 - accuracy: 0.9436 - val_loss: 0.4294 - val_accuracy: 0.8716\n",
            "Epoch 7/10\n",
            "215/215 [==============================] - 19s 88ms/step - loss: 0.1264 - accuracy: 0.9535 - val_loss: 0.5442 - val_accuracy: 0.8558\n",
            "Epoch 8/10\n",
            "215/215 [==============================] - 19s 88ms/step - loss: 0.1159 - accuracy: 0.9602 - val_loss: 0.4721 - val_accuracy: 0.8702\n",
            "Epoch 9/10\n",
            "215/215 [==============================] - 19s 88ms/step - loss: 0.0979 - accuracy: 0.9665 - val_loss: 0.4209 - val_accuracy: 0.8899\n",
            "Epoch 10/10\n",
            "215/215 [==============================] - 19s 88ms/step - loss: 0.0622 - accuracy: 0.9792 - val_loss: 0.4992 - val_accuracy: 0.8794\n"
          ],
          "name": "stdout"
        }
      ]
    },
    {
      "cell_type": "code",
      "metadata": {
        "id": "3Rx5qw-ORYrL",
        "colab": {
          "base_uri": "https://localhost:8080/"
        },
        "outputId": "e37cc4dd-2882-4f90-aafd-de9ee8a86fa5"
      },
      "source": [
        "model_6.evaluate(val_chars_dataset)"
      ],
      "execution_count": null,
      "outputs": [
        {
          "output_type": "stream",
          "text": [
            "24/24 [==============================] - 1s 41ms/step - loss: 0.4992 - accuracy: 0.8794\n"
          ],
          "name": "stdout"
        },
        {
          "output_type": "execute_result",
          "data": {
            "text/plain": [
              "[0.4992009103298187, 0.8794233202934265]"
            ]
          },
          "metadata": {
            "tags": []
          },
          "execution_count": 67
        }
      ]
    },
    {
      "cell_type": "code",
      "metadata": {
        "id": "6XkktTQ8Yzxk"
      },
      "source": [
        "model_6_preds = tf.argmax(model_6.predict(test_df['STORY'].to_numpy()), axis=1)\n",
        "model_6_df = pd.DataFrame(model_6_preds)\n",
        "model_6_df.columns = [\"SECTION\"]"
      ],
      "execution_count": null,
      "outputs": []
    },
    {
      "cell_type": "code",
      "metadata": {
        "id": "cEjT5VgdZMjO"
      },
      "source": [
        "model_6_df.to_csv(\"model_6_preds.csv\", index=False)"
      ],
      "execution_count": null,
      "outputs": []
    },
    {
      "cell_type": "code",
      "metadata": {
        "id": "ibk2Pn2pY4EU"
      },
      "source": [
        ""
      ],
      "execution_count": null,
      "outputs": []
    },
    {
      "cell_type": "markdown",
      "metadata": {
        "id": "Xc0wXGYTMQ8S"
      },
      "source": [
        "### Model 7 - Token Level embeddings + character level embeddings multi input hybrid model"
      ]
    },
    {
      "cell_type": "code",
      "metadata": {
        "id": "iNxSYrN1MWLW"
      },
      "source": [
        ""
      ],
      "execution_count": null,
      "outputs": []
    },
    {
      "cell_type": "code",
      "metadata": {
        "id": "Pu1eG9Y3MQ42"
      },
      "source": [
        ""
      ],
      "execution_count": null,
      "outputs": []
    },
    {
      "cell_type": "code",
      "metadata": {
        "id": "a6zG8cC5MQ1v"
      },
      "source": [
        ""
      ],
      "execution_count": null,
      "outputs": []
    },
    {
      "cell_type": "code",
      "metadata": {
        "id": "pJJmbRF-MQ0F"
      },
      "source": [
        ""
      ],
      "execution_count": null,
      "outputs": []
    }
  ]
}