{
 "cells": [
  {
   "cell_type": "code",
   "execution_count": 1,
   "id": "fossil-knowing",
   "metadata": {},
   "outputs": [],
   "source": [
    "import pandas as pd\n",
    "import numpy as np\n",
    "import matplotlib.pyplot as plt\n",
    "import seaborn as sns"
   ]
  },
  {
   "cell_type": "code",
   "execution_count": 2,
   "id": "processed-hotel",
   "metadata": {},
   "outputs": [],
   "source": [
    "import tensorflow as tf\n",
    "from tensorflow import keras\n",
    "\n",
    "from sklearn.impute import SimpleImputer\n",
    "from sklearn.preprocessing import LabelEncoder, MinMaxScaler, scale, OneHotEncoder\n",
    "from sklearn.model_selection import train_test_split\n",
    "from sklearn.compose import make_column_transformer"
   ]
  },
  {
   "cell_type": "code",
   "execution_count": 3,
   "id": "familiar-figure",
   "metadata": {},
   "outputs": [],
   "source": [
    "train = pd.read_csv(\"C:/Users/Roshan Maur/Downloads/Data/Data/Train.csv\")\n",
    "test = pd.read_csv(\"C:/Users/Roshan Maur/Downloads/Data/Data/Test.csv\")"
   ]
  },
  {
   "cell_type": "code",
   "execution_count": 4,
   "id": "enhanced-capture",
   "metadata": {},
   "outputs": [
    {
     "data": {
      "text/html": [
       "<div>\n",
       "<style scoped>\n",
       "    .dataframe tbody tr th:only-of-type {\n",
       "        vertical-align: middle;\n",
       "    }\n",
       "\n",
       "    .dataframe tbody tr th {\n",
       "        vertical-align: top;\n",
       "    }\n",
       "\n",
       "    .dataframe thead th {\n",
       "        text-align: right;\n",
       "    }\n",
       "</style>\n",
       "<table border=\"1\" class=\"dataframe\">\n",
       "  <thead>\n",
       "    <tr style=\"text-align: right;\">\n",
       "      <th></th>\n",
       "      <th>area_type</th>\n",
       "      <th>availability</th>\n",
       "      <th>location</th>\n",
       "      <th>size</th>\n",
       "      <th>society</th>\n",
       "      <th>total_sqft</th>\n",
       "      <th>bath</th>\n",
       "      <th>balcony</th>\n",
       "      <th>price</th>\n",
       "    </tr>\n",
       "  </thead>\n",
       "  <tbody>\n",
       "    <tr>\n",
       "      <th>0</th>\n",
       "      <td>Super built-up  Area</td>\n",
       "      <td>19-Dec</td>\n",
       "      <td>Electronic City Phase II</td>\n",
       "      <td>2 BHK</td>\n",
       "      <td>Coomee</td>\n",
       "      <td>1056</td>\n",
       "      <td>2.0</td>\n",
       "      <td>1.0</td>\n",
       "      <td>39.07</td>\n",
       "    </tr>\n",
       "    <tr>\n",
       "      <th>1</th>\n",
       "      <td>Plot  Area</td>\n",
       "      <td>Ready To Move</td>\n",
       "      <td>Chikka Tirupathi</td>\n",
       "      <td>4 Bedroom</td>\n",
       "      <td>Theanmp</td>\n",
       "      <td>2600</td>\n",
       "      <td>5.0</td>\n",
       "      <td>3.0</td>\n",
       "      <td>120.00</td>\n",
       "    </tr>\n",
       "    <tr>\n",
       "      <th>2</th>\n",
       "      <td>Built-up  Area</td>\n",
       "      <td>Ready To Move</td>\n",
       "      <td>Uttarahalli</td>\n",
       "      <td>3 BHK</td>\n",
       "      <td>NaN</td>\n",
       "      <td>1440</td>\n",
       "      <td>2.0</td>\n",
       "      <td>3.0</td>\n",
       "      <td>62.00</td>\n",
       "    </tr>\n",
       "    <tr>\n",
       "      <th>3</th>\n",
       "      <td>Super built-up  Area</td>\n",
       "      <td>Ready To Move</td>\n",
       "      <td>Lingadheeranahalli</td>\n",
       "      <td>3 BHK</td>\n",
       "      <td>Soiewre</td>\n",
       "      <td>1521</td>\n",
       "      <td>3.0</td>\n",
       "      <td>1.0</td>\n",
       "      <td>95.00</td>\n",
       "    </tr>\n",
       "    <tr>\n",
       "      <th>4</th>\n",
       "      <td>Super built-up  Area</td>\n",
       "      <td>Ready To Move</td>\n",
       "      <td>Kothanur</td>\n",
       "      <td>2 BHK</td>\n",
       "      <td>NaN</td>\n",
       "      <td>1200</td>\n",
       "      <td>2.0</td>\n",
       "      <td>1.0</td>\n",
       "      <td>51.00</td>\n",
       "    </tr>\n",
       "    <tr>\n",
       "      <th>...</th>\n",
       "      <td>...</td>\n",
       "      <td>...</td>\n",
       "      <td>...</td>\n",
       "      <td>...</td>\n",
       "      <td>...</td>\n",
       "      <td>...</td>\n",
       "      <td>...</td>\n",
       "      <td>...</td>\n",
       "      <td>...</td>\n",
       "    </tr>\n",
       "    <tr>\n",
       "      <th>65</th>\n",
       "      <td>Super built-up  Area</td>\n",
       "      <td>Ready To Move</td>\n",
       "      <td>Doddathoguru</td>\n",
       "      <td>2 BHK</td>\n",
       "      <td>NaN</td>\n",
       "      <td>1100</td>\n",
       "      <td>2.0</td>\n",
       "      <td>1.0</td>\n",
       "      <td>62.00</td>\n",
       "    </tr>\n",
       "    <tr>\n",
       "      <th>66</th>\n",
       "      <td>Super built-up  Area</td>\n",
       "      <td>18-Apr</td>\n",
       "      <td>Gunjur</td>\n",
       "      <td>2 BHK</td>\n",
       "      <td>BMineis</td>\n",
       "      <td>1140</td>\n",
       "      <td>2.0</td>\n",
       "      <td>3.0</td>\n",
       "      <td>43.00</td>\n",
       "    </tr>\n",
       "    <tr>\n",
       "      <th>67</th>\n",
       "      <td>Super built-up  Area</td>\n",
       "      <td>Ready To Move</td>\n",
       "      <td>Marathahalli</td>\n",
       "      <td>2 BHK</td>\n",
       "      <td>NaN</td>\n",
       "      <td>1220</td>\n",
       "      <td>2.0</td>\n",
       "      <td>1.0</td>\n",
       "      <td>57.00</td>\n",
       "    </tr>\n",
       "    <tr>\n",
       "      <th>68</th>\n",
       "      <td>Plot  Area</td>\n",
       "      <td>Ready To Move</td>\n",
       "      <td>Devarachikkanahalli</td>\n",
       "      <td>8 Bedroom</td>\n",
       "      <td>NaN</td>\n",
       "      <td>1350</td>\n",
       "      <td>7.0</td>\n",
       "      <td>0.0</td>\n",
       "      <td>85.00</td>\n",
       "    </tr>\n",
       "    <tr>\n",
       "      <th>69</th>\n",
       "      <td>Super built-up  Area</td>\n",
       "      <td>Ready To Move</td>\n",
       "      <td>Kanakpura Road</td>\n",
       "      <td>2 BHK</td>\n",
       "      <td>NaN</td>\n",
       "      <td>1005</td>\n",
       "      <td>2.0</td>\n",
       "      <td>1.0</td>\n",
       "      <td>36.68</td>\n",
       "    </tr>\n",
       "  </tbody>\n",
       "</table>\n",
       "<p>70 rows × 9 columns</p>\n",
       "</div>"
      ],
      "text/plain": [
       "               area_type   availability                  location       size  \\\n",
       "0   Super built-up  Area         19-Dec  Electronic City Phase II      2 BHK   \n",
       "1             Plot  Area  Ready To Move          Chikka Tirupathi  4 Bedroom   \n",
       "2         Built-up  Area  Ready To Move               Uttarahalli      3 BHK   \n",
       "3   Super built-up  Area  Ready To Move        Lingadheeranahalli      3 BHK   \n",
       "4   Super built-up  Area  Ready To Move                  Kothanur      2 BHK   \n",
       "..                   ...            ...                       ...        ...   \n",
       "65  Super built-up  Area  Ready To Move              Doddathoguru      2 BHK   \n",
       "66  Super built-up  Area         18-Apr                    Gunjur      2 BHK   \n",
       "67  Super built-up  Area  Ready To Move              Marathahalli      2 BHK   \n",
       "68            Plot  Area  Ready To Move       Devarachikkanahalli  8 Bedroom   \n",
       "69  Super built-up  Area  Ready To Move            Kanakpura Road      2 BHK   \n",
       "\n",
       "    society total_sqft  bath  balcony   price  \n",
       "0   Coomee        1056   2.0      1.0   39.07  \n",
       "1   Theanmp       2600   5.0      3.0  120.00  \n",
       "2       NaN       1440   2.0      3.0   62.00  \n",
       "3   Soiewre       1521   3.0      1.0   95.00  \n",
       "4       NaN       1200   2.0      1.0   51.00  \n",
       "..      ...        ...   ...      ...     ...  \n",
       "65      NaN       1100   2.0      1.0   62.00  \n",
       "66  BMineis       1140   2.0      3.0   43.00  \n",
       "67      NaN       1220   2.0      1.0   57.00  \n",
       "68      NaN       1350   7.0      0.0   85.00  \n",
       "69      NaN       1005   2.0      1.0   36.68  \n",
       "\n",
       "[70 rows x 9 columns]"
      ]
     },
     "execution_count": 4,
     "metadata": {},
     "output_type": "execute_result"
    }
   ],
   "source": [
    "train.head(70)"
   ]
  },
  {
   "cell_type": "code",
   "execution_count": 5,
   "id": "absent-reflection",
   "metadata": {},
   "outputs": [
    {
     "name": "stdout",
     "output_type": "stream",
     "text": [
      "<class 'pandas.core.frame.DataFrame'>\n",
      "RangeIndex: 13320 entries, 0 to 13319\n",
      "Data columns (total 9 columns):\n",
      " #   Column        Non-Null Count  Dtype  \n",
      "---  ------        --------------  -----  \n",
      " 0   area_type     13320 non-null  object \n",
      " 1   availability  13320 non-null  object \n",
      " 2   location      13319 non-null  object \n",
      " 3   size          13304 non-null  object \n",
      " 4   society       7818 non-null   object \n",
      " 5   total_sqft    13320 non-null  object \n",
      " 6   bath          13247 non-null  float64\n",
      " 7   balcony       12711 non-null  float64\n",
      " 8   price         13320 non-null  float64\n",
      "dtypes: float64(3), object(6)\n",
      "memory usage: 936.7+ KB\n"
     ]
    }
   ],
   "source": [
    "train.info()"
   ]
  },
  {
   "cell_type": "code",
   "execution_count": 6,
   "id": "useful-validation",
   "metadata": {},
   "outputs": [
    {
     "data": {
      "text/plain": [
       "Int64Index([568], dtype='int64')"
      ]
     },
     "execution_count": 6,
     "metadata": {},
     "output_type": "execute_result"
    }
   ],
   "source": [
    "train[train[\"location\"].isnull()].index"
   ]
  },
  {
   "cell_type": "code",
   "execution_count": 7,
   "id": "dangerous-disability",
   "metadata": {},
   "outputs": [],
   "source": [
    "train.dropna(subset=[\"location\", \"size\"], inplace=True, axis=0)"
   ]
  },
  {
   "cell_type": "code",
   "execution_count": 8,
   "id": "offensive-wheat",
   "metadata": {},
   "outputs": [],
   "source": [
    "train.drop(\"society\", axis=1, inplace=True)"
   ]
  },
  {
   "cell_type": "code",
   "execution_count": 9,
   "id": "alternate-despite",
   "metadata": {},
   "outputs": [],
   "source": [
    "# guntha done\n",
    "# - done\n",
    "# cents done\n",
    "# acres done\n",
    "# sq m done\n",
    "# grounds done\n",
    "# perch done\n",
    "# sq yards done"
   ]
  },
  {
   "cell_type": "code",
   "execution_count": 10,
   "id": "upset-somerset",
   "metadata": {},
   "outputs": [],
   "source": [
    "for x in train[train[\"total_sqft\"].astype(str).str.contains(\"-\")][\"total_sqft\"].index.tolist():\n",
    "    \n",
    "    xs = train.loc[x, \"total_sqft\"]\n",
    "    new_x = xs.split(\"-\")\n",
    "    new_xs = list(map(float, new_x))\n",
    "    new_x_one = new_xs[0]\n",
    "    new_x_two = new_xs[1]\n",
    "    \n",
    "    total_x = (new_x_one + new_x_two)/2\n",
    "    \n",
    "    train.loc[x, \"total_sqft\"] = total_x\n",
    "    \n",
    "    \n",
    "for x in test[test[\"total_sqft\"].astype(str).str.contains(\"-\")][\"total_sqft\"].index.tolist():\n",
    "    \n",
    "    xs = test.loc[x, \"total_sqft\"]\n",
    "    new_x = xs.split(\"-\")\n",
    "    new_xs = list(map(float, new_x))\n",
    "    new_x_one = new_xs[0]\n",
    "    new_x_two = new_xs[1]\n",
    "    \n",
    "    total_x = (new_x_one + new_x_two)/2\n",
    "    \n",
    "    test.loc[x, \"total_sqft\"] = total_x"
   ]
  },
  {
   "cell_type": "code",
   "execution_count": 11,
   "id": "talented-championship",
   "metadata": {},
   "outputs": [
    {
     "data": {
      "text/plain": [
       "1104.0"
      ]
     },
     "execution_count": 11,
     "metadata": {},
     "output_type": "execute_result"
    }
   ],
   "source": [
    "train.loc[2301, \"total_sqft\"]"
   ]
  },
  {
   "cell_type": "code",
   "execution_count": 12,
   "id": "diagnostic-basketball",
   "metadata": {},
   "outputs": [],
   "source": [
    "for x in train[train[\"total_sqft\"].astype(str).str.contains(\"Guntha\")][\"total_sqft\"].index.tolist():\n",
    "    \n",
    "    xs = train.loc[x, \"total_sqft\"]\n",
    "    new_x = xs.split(\"G\")\n",
    "    new_x_one = int(new_x[0])\n",
    "    \n",
    "    total_x = new_x_one * 1089\n",
    "    \n",
    "    train.loc[x, \"total_sqft\"] = total_x\n",
    "    \n",
    "    \n",
    "for x in test[test[\"total_sqft\"].astype(str).str.contains(\"Guntha\")][\"total_sqft\"].index.tolist():\n",
    "    \n",
    "    xs = test.loc[x, \"total_sqft\"]\n",
    "    new_x = xs.split(\"G\")\n",
    "    new_x_one = int(new_x[0])\n",
    "    \n",
    "    total_x = new_x_one * 1089\n",
    "    \n",
    "    test.loc[x, \"total_sqft\"] = total_x"
   ]
  },
  {
   "cell_type": "code",
   "execution_count": 13,
   "id": "fossil-indicator",
   "metadata": {},
   "outputs": [
    {
     "data": {
      "text/plain": [
       "area_type       Super built-up  Area\n",
       "availability           Ready To Move\n",
       "location                    Nagavara\n",
       "size                           2 BHK\n",
       "total_sqft                      1247\n",
       "bath                             2.0\n",
       "balcony                          1.0\n",
       "price                          58.56\n",
       "Name: 11335, dtype: object"
      ]
     },
     "execution_count": 13,
     "metadata": {},
     "output_type": "execute_result"
    }
   ],
   "source": [
    "train.iloc[11319]"
   ]
  },
  {
   "cell_type": "code",
   "execution_count": 14,
   "id": "apart-alaska",
   "metadata": {},
   "outputs": [],
   "source": [
    "for x in train[train[\"total_sqft\"].astype(str).str.contains(\"Cents\")][\"total_sqft\"].index.tolist():\n",
    "    \n",
    "    xs = train.loc[x, \"total_sqft\"]\n",
    "    new_x = xs.split(\"C\")\n",
    "    new_x_one = int(new_x[0])\n",
    "    \n",
    "    total_x = new_x_one * 435.6\n",
    "    \n",
    "    train.loc[x, \"total_sqft\"] = total_x\n",
    "    \n",
    "    \n",
    "for x in test[test[\"total_sqft\"].astype(str).str.contains(\"Cents\")][\"total_sqft\"].index.tolist():\n",
    "    \n",
    "    xs = test.loc[x, \"total_sqft\"]\n",
    "    new_x = xs.split(\"C\")\n",
    "    new_x_one = int(new_x[0])\n",
    "    \n",
    "    total_x = new_x_one * 435.6\n",
    "    \n",
    "    test.loc[x, \"total_sqft\"] = total_x"
   ]
  },
  {
   "cell_type": "code",
   "execution_count": 15,
   "id": "accessory-probe",
   "metadata": {},
   "outputs": [
    {
     "data": {
      "text/plain": [
       "area_type             Built-up  Area\n",
       "availability           Ready To Move\n",
       "location        Lakshminarayana Pura\n",
       "size                           2 BHK\n",
       "total_sqft                      1395\n",
       "bath                             2.0\n",
       "balcony                          0.0\n",
       "price                           75.0\n",
       "Name: 7010, dtype: object"
      ]
     },
     "execution_count": 15,
     "metadata": {},
     "output_type": "execute_result"
    }
   ],
   "source": [
    "train.iloc[7000]"
   ]
  },
  {
   "cell_type": "code",
   "execution_count": 16,
   "id": "compliant-violence",
   "metadata": {},
   "outputs": [],
   "source": [
    "for x in train[train[\"total_sqft\"].astype(str).str.contains(\"Acres\")][\"total_sqft\"].index.tolist():\n",
    "    \n",
    "    xs = train.loc[x, \"total_sqft\"]\n",
    "    new_x = xs.split(\"A\")\n",
    "    new_x_one = float(new_x[0])\n",
    "    \n",
    "    total_x = new_x_one * 43560\n",
    "    \n",
    "    train.loc[x, \"total_sqft\"] = total_x\n",
    "    \n",
    "    \n",
    "for x in test[test[\"total_sqft\"].astype(str).str.contains(\"Acres\")][\"total_sqft\"].index.tolist():\n",
    "    \n",
    "    xs = test.loc[x, \"total_sqft\"]\n",
    "    new_x = xs.split(\"A\")\n",
    "    new_x_one = float(new_x[0])\n",
    "    \n",
    "    total_x = new_x_one * 43560\n",
    "    \n",
    "    test.loc[x, \"total_sqft\"] = total_x"
   ]
  },
  {
   "cell_type": "code",
   "execution_count": 17,
   "id": "north-makeup",
   "metadata": {},
   "outputs": [
    {
     "data": {
      "text/plain": [
       "area_type       Super built-up  Area\n",
       "availability           Ready To Move\n",
       "location          Yelahanka New Town\n",
       "size                           1 BHK\n",
       "total_sqft                       500\n",
       "bath                             2.0\n",
       "balcony                          1.0\n",
       "price                           24.0\n",
       "Name: 6339, dtype: object"
      ]
     },
     "execution_count": 17,
     "metadata": {},
     "output_type": "execute_result"
    }
   ],
   "source": [
    "train.iloc[6332]"
   ]
  },
  {
   "cell_type": "code",
   "execution_count": 18,
   "id": "featured-darwin",
   "metadata": {},
   "outputs": [],
   "source": [
    "for x in train[train[\"total_sqft\"].astype(str).str.contains(\"Sq. Meter\")][\"total_sqft\"].index.tolist():\n",
    "    \n",
    "    xs = train.loc[x, \"total_sqft\"]\n",
    "    new_x = xs.split(\"S\")\n",
    "    new_x_one = float(new_x[0])\n",
    "    \n",
    "    total_x = new_x_one * 10.764\n",
    "    \n",
    "    train.loc[x, \"total_sqft\"] = total_x\n",
    "    \n",
    "\n",
    "for x in test[test[\"total_sqft\"].astype(str).str.contains(\"Sq. Meter\")][\"total_sqft\"].index.tolist():\n",
    "    \n",
    "    xs = test.loc[x, \"total_sqft\"]\n",
    "    new_x = xs.split(\"S\")\n",
    "    new_x_one = float(new_x[0])\n",
    "    \n",
    "    total_x = new_x_one * 10.764\n",
    "    \n",
    "    test.loc[x, \"total_sqft\"] = total_x"
   ]
  },
  {
   "cell_type": "code",
   "execution_count": 19,
   "id": "surprising-price",
   "metadata": {},
   "outputs": [
    {
     "data": {
      "text/plain": [
       "area_type           Super built-up  Area\n",
       "availability               Ready To Move\n",
       "location        Electronics City Phase 1\n",
       "size                               2 BHK\n",
       "total_sqft                          1125\n",
       "bath                                 2.0\n",
       "balcony                              2.0\n",
       "price                               65.0\n",
       "Name: 7529, dtype: object"
      ]
     },
     "execution_count": 19,
     "metadata": {},
     "output_type": "execute_result"
    }
   ],
   "source": [
    "train.iloc[7519]"
   ]
  },
  {
   "cell_type": "code",
   "execution_count": 20,
   "id": "requested-sweden",
   "metadata": {},
   "outputs": [],
   "source": [
    "for x in train[train[\"total_sqft\"].astype(str).str.contains(\"Sq. Yards\")][\"total_sqft\"].index.tolist():\n",
    "    \n",
    "    xs = train.loc[x, \"total_sqft\"]\n",
    "    new_x = xs.split(\"S\")\n",
    "    new_x_one = float(new_x[0])\n",
    "    \n",
    "    total_x = new_x_one * 9\n",
    "    \n",
    "    train.loc[x, \"total_sqft\"] = total_x\n",
    "    \n",
    "    \n",
    "for x in test[test[\"total_sqft\"].astype(str).str.contains(\"Sq. Yards\")][\"total_sqft\"].index.tolist():\n",
    "    \n",
    "    xs = test.loc[x, \"total_sqft\"]\n",
    "    new_x = xs.split(\"S\")\n",
    "    new_x_one = float(new_x[0])\n",
    "    \n",
    "    total_x = new_x_one * 9\n",
    "    \n",
    "    test.loc[x, \"total_sqft\"] = total_x"
   ]
  },
  {
   "cell_type": "code",
   "execution_count": 21,
   "id": "prerequisite-reservation",
   "metadata": {},
   "outputs": [
    {
     "data": {
      "text/plain": [
       "area_type       Super built-up  Area\n",
       "availability           Ready To Move\n",
       "location          Pattandur Agrahara\n",
       "size                           3 BHK\n",
       "total_sqft                      1550\n",
       "bath                             2.0\n",
       "balcony                          3.0\n",
       "price                           80.0\n",
       "Name: 8283, dtype: object"
      ]
     },
     "execution_count": 21,
     "metadata": {},
     "output_type": "execute_result"
    }
   ],
   "source": [
    "train.iloc[8272]"
   ]
  },
  {
   "cell_type": "code",
   "execution_count": 22,
   "id": "offshore-scenario",
   "metadata": {},
   "outputs": [],
   "source": [
    "for x in train[train[\"total_sqft\"].astype(str).str.contains(\"Perch\")][\"total_sqft\"].index.tolist():\n",
    "    \n",
    "    xs = train.loc[x, \"total_sqft\"]\n",
    "    new_x = xs.split(\"P\")\n",
    "    new_x_one = float(new_x[0])\n",
    "    \n",
    "    total_x = new_x_one * 272.25\n",
    "    \n",
    "    train.loc[x, \"total_sqft\"] = total_x\n",
    "    \n",
    "    \n",
    "for x in test[test[\"total_sqft\"].astype(str).str.contains(\"Perch\")][\"total_sqft\"].index.tolist():\n",
    "    \n",
    "    xs = test.loc[x, \"total_sqft\"]\n",
    "    new_x = xs.split(\"P\")\n",
    "    new_x_one = float(new_x[0])\n",
    "    \n",
    "    total_x = new_x_one * 272.25\n",
    "    \n",
    "    test.loc[x, \"total_sqft\"] = total_x"
   ]
  },
  {
   "cell_type": "code",
   "execution_count": 23,
   "id": "hawaiian-cheat",
   "metadata": {},
   "outputs": [
    {
     "data": {
      "text/plain": [
       "area_type       Super built-up  Area\n",
       "availability           Ready To Move\n",
       "location               Hosakerehalli\n",
       "size                           3 BHK\n",
       "total_sqft                      2378\n",
       "bath                             3.0\n",
       "balcony                          1.0\n",
       "price                          262.0\n",
       "Name: 649, dtype: object"
      ]
     },
     "execution_count": 23,
     "metadata": {},
     "output_type": "execute_result"
    }
   ],
   "source": [
    "train.iloc[647]"
   ]
  },
  {
   "cell_type": "code",
   "execution_count": 24,
   "id": "sunset-million",
   "metadata": {},
   "outputs": [],
   "source": [
    "for x in train[train[\"total_sqft\"].astype(str).str.contains(\"Grounds\")][\"total_sqft\"].index.tolist():\n",
    "    \n",
    "    xs = train.loc[x, \"total_sqft\"]\n",
    "    new_x = xs.split(\"G\")\n",
    "    new_x_one = float(new_x[0])\n",
    "    \n",
    "    total_x = new_x_one * 2400\n",
    "    \n",
    "    train.loc[x, \"total_sqft\"] = total_x\n",
    "    \n",
    "    \n",
    "for x in test[test[\"total_sqft\"].astype(str).str.contains(\"Grounds\")][\"total_sqft\"].index.tolist():\n",
    "    \n",
    "    xs = test.loc[x, \"total_sqft\"]\n",
    "    new_x = xs.split(\"G\")\n",
    "    new_x_one = float(new_x[0])\n",
    "    \n",
    "    total_x = new_x_one * 2400\n",
    "    \n",
    "    test.loc[x, \"total_sqft\"] = total_x"
   ]
  },
  {
   "cell_type": "code",
   "execution_count": 25,
   "id": "patient-coach",
   "metadata": {},
   "outputs": [
    {
     "data": {
      "text/plain": [
       "area_type       Super built-up  Area\n",
       "availability           Ready To Move\n",
       "location                    Budigere\n",
       "size                           3 BHK\n",
       "total_sqft                      1636\n",
       "bath                             3.0\n",
       "balcony                          2.0\n",
       "price                           83.0\n",
       "Name: 9436, dtype: object"
      ]
     },
     "execution_count": 25,
     "metadata": {},
     "output_type": "execute_result"
    }
   ],
   "source": [
    "train.iloc[9422]"
   ]
  },
  {
   "cell_type": "code",
   "execution_count": null,
   "id": "greenhouse-mobile",
   "metadata": {},
   "outputs": [],
   "source": []
  },
  {
   "cell_type": "code",
   "execution_count": 26,
   "id": "middle-calibration",
   "metadata": {},
   "outputs": [],
   "source": [
    "train[\"total_sqft\"] = pd.to_numeric(train[\"total_sqft\"])"
   ]
  },
  {
   "cell_type": "code",
   "execution_count": 27,
   "id": "different-playlist",
   "metadata": {},
   "outputs": [
    {
     "name": "stdout",
     "output_type": "stream",
     "text": [
      "<class 'pandas.core.frame.DataFrame'>\n",
      "Int64Index: 13303 entries, 0 to 13319\n",
      "Data columns (total 8 columns):\n",
      " #   Column        Non-Null Count  Dtype  \n",
      "---  ------        --------------  -----  \n",
      " 0   area_type     13303 non-null  object \n",
      " 1   availability  13303 non-null  object \n",
      " 2   location      13303 non-null  object \n",
      " 3   size          13303 non-null  object \n",
      " 4   total_sqft    13303 non-null  float64\n",
      " 5   bath          13246 non-null  float64\n",
      " 6   balcony       12710 non-null  float64\n",
      " 7   price         13303 non-null  float64\n",
      "dtypes: float64(4), object(4)\n",
      "memory usage: 1.4+ MB\n"
     ]
    }
   ],
   "source": [
    "train.info()"
   ]
  },
  {
   "cell_type": "code",
   "execution_count": null,
   "id": "right-boards",
   "metadata": {},
   "outputs": [],
   "source": []
  },
  {
   "cell_type": "code",
   "execution_count": 28,
   "id": "homeless-mauritius",
   "metadata": {},
   "outputs": [],
   "source": [
    "imputer = SimpleImputer(strategy=\"mean\")\n",
    "train[\"bath\"] = imputer.fit_transform(train[\"bath\"].values.reshape(-1,1))\n",
    "train[\"balcony\"] = imputer.fit_transform(train[\"balcony\"].values.reshape(-1,1))"
   ]
  },
  {
   "cell_type": "code",
   "execution_count": 29,
   "id": "impressive-retrieval",
   "metadata": {},
   "outputs": [],
   "source": [
    "train[\"size\"] = train[\"size\"].apply(lambda x: x.strip(\" \")[0])"
   ]
  },
  {
   "cell_type": "code",
   "execution_count": 30,
   "id": "prostate-excellence",
   "metadata": {},
   "outputs": [],
   "source": [
    "train[\"size\"] = pd.to_numeric(train[\"size\"])"
   ]
  },
  {
   "cell_type": "code",
   "execution_count": 31,
   "id": "approximate-russian",
   "metadata": {},
   "outputs": [
    {
     "data": {
      "text/html": [
       "<div>\n",
       "<style scoped>\n",
       "    .dataframe tbody tr th:only-of-type {\n",
       "        vertical-align: middle;\n",
       "    }\n",
       "\n",
       "    .dataframe tbody tr th {\n",
       "        vertical-align: top;\n",
       "    }\n",
       "\n",
       "    .dataframe thead th {\n",
       "        text-align: right;\n",
       "    }\n",
       "</style>\n",
       "<table border=\"1\" class=\"dataframe\">\n",
       "  <thead>\n",
       "    <tr style=\"text-align: right;\">\n",
       "      <th></th>\n",
       "      <th>area_type</th>\n",
       "      <th>availability</th>\n",
       "      <th>location</th>\n",
       "      <th>size</th>\n",
       "      <th>total_sqft</th>\n",
       "      <th>bath</th>\n",
       "      <th>balcony</th>\n",
       "      <th>price</th>\n",
       "    </tr>\n",
       "  </thead>\n",
       "  <tbody>\n",
       "    <tr>\n",
       "      <th>0</th>\n",
       "      <td>Super built-up  Area</td>\n",
       "      <td>19-Dec</td>\n",
       "      <td>Electronic City Phase II</td>\n",
       "      <td>2</td>\n",
       "      <td>1056.0</td>\n",
       "      <td>2.0</td>\n",
       "      <td>1.0</td>\n",
       "      <td>39.07</td>\n",
       "    </tr>\n",
       "    <tr>\n",
       "      <th>1</th>\n",
       "      <td>Plot  Area</td>\n",
       "      <td>Ready To Move</td>\n",
       "      <td>Chikka Tirupathi</td>\n",
       "      <td>4</td>\n",
       "      <td>2600.0</td>\n",
       "      <td>5.0</td>\n",
       "      <td>3.0</td>\n",
       "      <td>120.00</td>\n",
       "    </tr>\n",
       "    <tr>\n",
       "      <th>2</th>\n",
       "      <td>Built-up  Area</td>\n",
       "      <td>Ready To Move</td>\n",
       "      <td>Uttarahalli</td>\n",
       "      <td>3</td>\n",
       "      <td>1440.0</td>\n",
       "      <td>2.0</td>\n",
       "      <td>3.0</td>\n",
       "      <td>62.00</td>\n",
       "    </tr>\n",
       "    <tr>\n",
       "      <th>3</th>\n",
       "      <td>Super built-up  Area</td>\n",
       "      <td>Ready To Move</td>\n",
       "      <td>Lingadheeranahalli</td>\n",
       "      <td>3</td>\n",
       "      <td>1521.0</td>\n",
       "      <td>3.0</td>\n",
       "      <td>1.0</td>\n",
       "      <td>95.00</td>\n",
       "    </tr>\n",
       "    <tr>\n",
       "      <th>4</th>\n",
       "      <td>Super built-up  Area</td>\n",
       "      <td>Ready To Move</td>\n",
       "      <td>Kothanur</td>\n",
       "      <td>2</td>\n",
       "      <td>1200.0</td>\n",
       "      <td>2.0</td>\n",
       "      <td>1.0</td>\n",
       "      <td>51.00</td>\n",
       "    </tr>\n",
       "  </tbody>\n",
       "</table>\n",
       "</div>"
      ],
      "text/plain": [
       "              area_type   availability                  location  size  \\\n",
       "0  Super built-up  Area         19-Dec  Electronic City Phase II     2   \n",
       "1            Plot  Area  Ready To Move          Chikka Tirupathi     4   \n",
       "2        Built-up  Area  Ready To Move               Uttarahalli     3   \n",
       "3  Super built-up  Area  Ready To Move        Lingadheeranahalli     3   \n",
       "4  Super built-up  Area  Ready To Move                  Kothanur     2   \n",
       "\n",
       "   total_sqft  bath  balcony   price  \n",
       "0      1056.0   2.0      1.0   39.07  \n",
       "1      2600.0   5.0      3.0  120.00  \n",
       "2      1440.0   2.0      3.0   62.00  \n",
       "3      1521.0   3.0      1.0   95.00  \n",
       "4      1200.0   2.0      1.0   51.00  "
      ]
     },
     "execution_count": 31,
     "metadata": {},
     "output_type": "execute_result"
    }
   ],
   "source": [
    "train.head()"
   ]
  },
  {
   "cell_type": "code",
   "execution_count": null,
   "id": "fuzzy-hazard",
   "metadata": {},
   "outputs": [],
   "source": []
  },
  {
   "cell_type": "code",
   "execution_count": 32,
   "id": "worthy-greenhouse",
   "metadata": {},
   "outputs": [
    {
     "name": "stdout",
     "output_type": "stream",
     "text": [
      "<class 'pandas.core.frame.DataFrame'>\n",
      "RangeIndex: 1480 entries, 0 to 1479\n",
      "Data columns (total 9 columns):\n",
      " #   Column        Non-Null Count  Dtype  \n",
      "---  ------        --------------  -----  \n",
      " 0   area_type     1480 non-null   object \n",
      " 1   availability  1480 non-null   object \n",
      " 2   location      1480 non-null   object \n",
      " 3   size          1478 non-null   object \n",
      " 4   society       854 non-null    object \n",
      " 5   total_sqft    1480 non-null   object \n",
      " 6   bath          1473 non-null   float64\n",
      " 7   balcony       1411 non-null   float64\n",
      " 8   price         0 non-null      float64\n",
      "dtypes: float64(3), object(6)\n",
      "memory usage: 104.2+ KB\n"
     ]
    }
   ],
   "source": [
    "test.info()"
   ]
  },
  {
   "cell_type": "code",
   "execution_count": 33,
   "id": "instrumental-exhibition",
   "metadata": {},
   "outputs": [],
   "source": [
    "test.drop(\"society\", axis=1, inplace=True)"
   ]
  },
  {
   "cell_type": "code",
   "execution_count": 34,
   "id": "processed-quarterly",
   "metadata": {},
   "outputs": [],
   "source": [
    "imputer_test = SimpleImputer(strategy=\"mean\")\n",
    "test[\"bath\"] = imputer_test.fit_transform(test[\"bath\"].values.reshape(-1,1))\n",
    "test[\"balcony\"] = imputer_test.fit_transform(test[\"balcony\"].values.reshape(-1,1))"
   ]
  },
  {
   "cell_type": "code",
   "execution_count": 35,
   "id": "minus-lawyer",
   "metadata": {},
   "outputs": [
    {
     "data": {
      "text/html": [
       "<div>\n",
       "<style scoped>\n",
       "    .dataframe tbody tr th:only-of-type {\n",
       "        vertical-align: middle;\n",
       "    }\n",
       "\n",
       "    .dataframe tbody tr th {\n",
       "        vertical-align: top;\n",
       "    }\n",
       "\n",
       "    .dataframe thead th {\n",
       "        text-align: right;\n",
       "    }\n",
       "</style>\n",
       "<table border=\"1\" class=\"dataframe\">\n",
       "  <thead>\n",
       "    <tr style=\"text-align: right;\">\n",
       "      <th></th>\n",
       "      <th>area_type</th>\n",
       "      <th>availability</th>\n",
       "      <th>location</th>\n",
       "      <th>size</th>\n",
       "      <th>total_sqft</th>\n",
       "      <th>bath</th>\n",
       "      <th>balcony</th>\n",
       "      <th>price</th>\n",
       "    </tr>\n",
       "  </thead>\n",
       "  <tbody>\n",
       "    <tr>\n",
       "      <th>151</th>\n",
       "      <td>Plot  Area</td>\n",
       "      <td>Immediate Possession</td>\n",
       "      <td>Chikkaballapur</td>\n",
       "      <td>NaN</td>\n",
       "      <td>1600.0</td>\n",
       "      <td>2.753564</td>\n",
       "      <td>1.562013</td>\n",
       "      <td>NaN</td>\n",
       "    </tr>\n",
       "    <tr>\n",
       "      <th>1160</th>\n",
       "      <td>Plot  Area</td>\n",
       "      <td>Immediate Possession</td>\n",
       "      <td>Hosa Road</td>\n",
       "      <td>NaN</td>\n",
       "      <td>2300.0</td>\n",
       "      <td>2.753564</td>\n",
       "      <td>1.562013</td>\n",
       "      <td>NaN</td>\n",
       "    </tr>\n",
       "  </tbody>\n",
       "</table>\n",
       "</div>"
      ],
      "text/plain": [
       "       area_type          availability        location size total_sqft  \\\n",
       "151   Plot  Area  Immediate Possession  Chikkaballapur  NaN     1600.0   \n",
       "1160  Plot  Area  Immediate Possession       Hosa Road  NaN     2300.0   \n",
       "\n",
       "          bath   balcony  price  \n",
       "151   2.753564  1.562013    NaN  \n",
       "1160  2.753564  1.562013    NaN  "
      ]
     },
     "execution_count": 35,
     "metadata": {},
     "output_type": "execute_result"
    }
   ],
   "source": [
    "test[test[\"size\"].isnull()]"
   ]
  },
  {
   "cell_type": "code",
   "execution_count": 36,
   "id": "assumed-tunisia",
   "metadata": {},
   "outputs": [],
   "source": [
    "test.loc[151, \"size\"] = \"4 BHK\"\n",
    "test.loc[1160, \"size\"] = \"5 BHK\""
   ]
  },
  {
   "cell_type": "code",
   "execution_count": 37,
   "id": "inner-hacker",
   "metadata": {},
   "outputs": [],
   "source": [
    "test[\"size\"] = test[\"size\"].apply(lambda x: x.strip(\" \")[0])"
   ]
  },
  {
   "cell_type": "code",
   "execution_count": 38,
   "id": "seven-witness",
   "metadata": {},
   "outputs": [],
   "source": [
    "test[\"total_sqft\"] = pd.to_numeric(test[\"total_sqft\"])\n",
    "test[\"size\"] = pd.to_numeric(test[\"size\"])"
   ]
  },
  {
   "cell_type": "code",
   "execution_count": 39,
   "id": "elegant-timer",
   "metadata": {},
   "outputs": [
    {
     "name": "stdout",
     "output_type": "stream",
     "text": [
      "<class 'pandas.core.frame.DataFrame'>\n",
      "RangeIndex: 1480 entries, 0 to 1479\n",
      "Data columns (total 8 columns):\n",
      " #   Column        Non-Null Count  Dtype  \n",
      "---  ------        --------------  -----  \n",
      " 0   area_type     1480 non-null   object \n",
      " 1   availability  1480 non-null   object \n",
      " 2   location      1480 non-null   object \n",
      " 3   size          1480 non-null   int64  \n",
      " 4   total_sqft    1480 non-null   float64\n",
      " 5   bath          1480 non-null   float64\n",
      " 6   balcony       1480 non-null   float64\n",
      " 7   price         0 non-null      float64\n",
      "dtypes: float64(4), int64(1), object(3)\n",
      "memory usage: 92.6+ KB\n"
     ]
    }
   ],
   "source": [
    "test.info()"
   ]
  },
  {
   "cell_type": "code",
   "execution_count": null,
   "id": "composite-uruguay",
   "metadata": {},
   "outputs": [],
   "source": []
  },
  {
   "cell_type": "code",
   "execution_count": 40,
   "id": "functional-namibia",
   "metadata": {},
   "outputs": [
    {
     "data": {
      "text/plain": [
       "(              area_type   availability           location  size  total_sqft  \\\n",
       " 0  Super built-up  Area  Ready To Move        Brookefield     2      1225.0   \n",
       " 1            Plot  Area  Ready To Move      Akshaya Nagar     9      2400.0   \n",
       " 2            Plot  Area         18-Apr        Hennur Road     4      1650.0   \n",
       " 3  Super built-up  Area  Ready To Move  Kodichikkanahalli     3      1322.0   \n",
       " 4  Super built-up  Area  Ready To Move        Konanakunte     2      1161.0   \n",
       " \n",
       "    bath  balcony  price  \n",
       " 0   2.0      2.0    NaN  \n",
       " 1   9.0      2.0    NaN  \n",
       " 2   5.0      2.0    NaN  \n",
       " 3   3.0      1.0    NaN  \n",
       " 4   2.0      1.0    NaN  ,\n",
       "               area_type   availability                  location  size  \\\n",
       " 0  Super built-up  Area         19-Dec  Electronic City Phase II     2   \n",
       " 1            Plot  Area  Ready To Move          Chikka Tirupathi     4   \n",
       " 2        Built-up  Area  Ready To Move               Uttarahalli     3   \n",
       " 3  Super built-up  Area  Ready To Move        Lingadheeranahalli     3   \n",
       " 4  Super built-up  Area  Ready To Move                  Kothanur     2   \n",
       " \n",
       "    total_sqft  bath  balcony   price  \n",
       " 0      1056.0   2.0      1.0   39.07  \n",
       " 1      2600.0   5.0      3.0  120.00  \n",
       " 2      1440.0   2.0      3.0   62.00  \n",
       " 3      1521.0   3.0      1.0   95.00  \n",
       " 4      1200.0   2.0      1.0   51.00  )"
      ]
     },
     "execution_count": 40,
     "metadata": {},
     "output_type": "execute_result"
    }
   ],
   "source": [
    "test.head(), train.head()"
   ]
  },
  {
   "cell_type": "code",
   "execution_count": 41,
   "id": "iraqi-wiring",
   "metadata": {},
   "outputs": [],
   "source": [
    "X_test = test.drop([\"price\", \"availability\"], axis=1)\n",
    "train.drop(\"availability\", axis=1, inplace=True)"
   ]
  },
  {
   "cell_type": "code",
   "execution_count": 42,
   "id": "frequent-cosmetic",
   "metadata": {},
   "outputs": [],
   "source": [
    "X = train.drop(\"price\", axis=1)\n",
    "y = train[\"price\"]"
   ]
  },
  {
   "cell_type": "code",
   "execution_count": 43,
   "id": "southern-rally",
   "metadata": {},
   "outputs": [
    {
     "data": {
      "text/html": [
       "<div>\n",
       "<style scoped>\n",
       "    .dataframe tbody tr th:only-of-type {\n",
       "        vertical-align: middle;\n",
       "    }\n",
       "\n",
       "    .dataframe tbody tr th {\n",
       "        vertical-align: top;\n",
       "    }\n",
       "\n",
       "    .dataframe thead th {\n",
       "        text-align: right;\n",
       "    }\n",
       "</style>\n",
       "<table border=\"1\" class=\"dataframe\">\n",
       "  <thead>\n",
       "    <tr style=\"text-align: right;\">\n",
       "      <th></th>\n",
       "      <th>area_type</th>\n",
       "      <th>location</th>\n",
       "      <th>size</th>\n",
       "      <th>total_sqft</th>\n",
       "      <th>bath</th>\n",
       "      <th>balcony</th>\n",
       "    </tr>\n",
       "  </thead>\n",
       "  <tbody>\n",
       "    <tr>\n",
       "      <th>0</th>\n",
       "      <td>Super built-up  Area</td>\n",
       "      <td>Electronic City Phase II</td>\n",
       "      <td>2</td>\n",
       "      <td>1056.0</td>\n",
       "      <td>2.0</td>\n",
       "      <td>1.000000</td>\n",
       "    </tr>\n",
       "    <tr>\n",
       "      <th>1</th>\n",
       "      <td>Plot  Area</td>\n",
       "      <td>Chikka Tirupathi</td>\n",
       "      <td>4</td>\n",
       "      <td>2600.0</td>\n",
       "      <td>5.0</td>\n",
       "      <td>3.000000</td>\n",
       "    </tr>\n",
       "    <tr>\n",
       "      <th>2</th>\n",
       "      <td>Built-up  Area</td>\n",
       "      <td>Uttarahalli</td>\n",
       "      <td>3</td>\n",
       "      <td>1440.0</td>\n",
       "      <td>2.0</td>\n",
       "      <td>3.000000</td>\n",
       "    </tr>\n",
       "    <tr>\n",
       "      <th>3</th>\n",
       "      <td>Super built-up  Area</td>\n",
       "      <td>Lingadheeranahalli</td>\n",
       "      <td>3</td>\n",
       "      <td>1521.0</td>\n",
       "      <td>3.0</td>\n",
       "      <td>1.000000</td>\n",
       "    </tr>\n",
       "    <tr>\n",
       "      <th>4</th>\n",
       "      <td>Super built-up  Area</td>\n",
       "      <td>Kothanur</td>\n",
       "      <td>2</td>\n",
       "      <td>1200.0</td>\n",
       "      <td>2.0</td>\n",
       "      <td>1.000000</td>\n",
       "    </tr>\n",
       "    <tr>\n",
       "      <th>...</th>\n",
       "      <td>...</td>\n",
       "      <td>...</td>\n",
       "      <td>...</td>\n",
       "      <td>...</td>\n",
       "      <td>...</td>\n",
       "      <td>...</td>\n",
       "    </tr>\n",
       "    <tr>\n",
       "      <th>13315</th>\n",
       "      <td>Built-up  Area</td>\n",
       "      <td>Whitefield</td>\n",
       "      <td>5</td>\n",
       "      <td>3453.0</td>\n",
       "      <td>4.0</td>\n",
       "      <td>0.000000</td>\n",
       "    </tr>\n",
       "    <tr>\n",
       "      <th>13316</th>\n",
       "      <td>Super built-up  Area</td>\n",
       "      <td>Richards Town</td>\n",
       "      <td>4</td>\n",
       "      <td>3600.0</td>\n",
       "      <td>5.0</td>\n",
       "      <td>1.584343</td>\n",
       "    </tr>\n",
       "    <tr>\n",
       "      <th>13317</th>\n",
       "      <td>Built-up  Area</td>\n",
       "      <td>Raja Rajeshwari Nagar</td>\n",
       "      <td>2</td>\n",
       "      <td>1141.0</td>\n",
       "      <td>2.0</td>\n",
       "      <td>1.000000</td>\n",
       "    </tr>\n",
       "    <tr>\n",
       "      <th>13318</th>\n",
       "      <td>Super built-up  Area</td>\n",
       "      <td>Padmanabhanagar</td>\n",
       "      <td>4</td>\n",
       "      <td>4689.0</td>\n",
       "      <td>4.0</td>\n",
       "      <td>1.000000</td>\n",
       "    </tr>\n",
       "    <tr>\n",
       "      <th>13319</th>\n",
       "      <td>Super built-up  Area</td>\n",
       "      <td>Doddathoguru</td>\n",
       "      <td>1</td>\n",
       "      <td>550.0</td>\n",
       "      <td>1.0</td>\n",
       "      <td>1.000000</td>\n",
       "    </tr>\n",
       "  </tbody>\n",
       "</table>\n",
       "<p>13303 rows × 6 columns</p>\n",
       "</div>"
      ],
      "text/plain": [
       "                  area_type                  location  size  total_sqft  bath  \\\n",
       "0      Super built-up  Area  Electronic City Phase II     2      1056.0   2.0   \n",
       "1                Plot  Area          Chikka Tirupathi     4      2600.0   5.0   \n",
       "2            Built-up  Area               Uttarahalli     3      1440.0   2.0   \n",
       "3      Super built-up  Area        Lingadheeranahalli     3      1521.0   3.0   \n",
       "4      Super built-up  Area                  Kothanur     2      1200.0   2.0   \n",
       "...                     ...                       ...   ...         ...   ...   \n",
       "13315        Built-up  Area                Whitefield     5      3453.0   4.0   \n",
       "13316  Super built-up  Area             Richards Town     4      3600.0   5.0   \n",
       "13317        Built-up  Area     Raja Rajeshwari Nagar     2      1141.0   2.0   \n",
       "13318  Super built-up  Area           Padmanabhanagar     4      4689.0   4.0   \n",
       "13319  Super built-up  Area              Doddathoguru     1       550.0   1.0   \n",
       "\n",
       "        balcony  \n",
       "0      1.000000  \n",
       "1      3.000000  \n",
       "2      3.000000  \n",
       "3      1.000000  \n",
       "4      1.000000  \n",
       "...         ...  \n",
       "13315  0.000000  \n",
       "13316  1.584343  \n",
       "13317  1.000000  \n",
       "13318  1.000000  \n",
       "13319  1.000000  \n",
       "\n",
       "[13303 rows x 6 columns]"
      ]
     },
     "execution_count": 43,
     "metadata": {},
     "output_type": "execute_result"
    }
   ],
   "source": [
    "X"
   ]
  },
  {
   "cell_type": "code",
   "execution_count": 44,
   "id": "interested-commons",
   "metadata": {},
   "outputs": [],
   "source": [
    "le = LabelEncoder()\n",
    "X[\"location\"] = le.fit_transform(X[\"location\"])"
   ]
  },
  {
   "cell_type": "code",
   "execution_count": null,
   "id": "thermal-stomach",
   "metadata": {},
   "outputs": [],
   "source": []
  },
  {
   "cell_type": "code",
   "execution_count": 47,
   "id": "norman-comment",
   "metadata": {},
   "outputs": [],
   "source": []
  },
  {
   "cell_type": "code",
   "execution_count": 49,
   "id": "competitive-generator",
   "metadata": {},
   "outputs": [
    {
     "data": {
      "text/plain": [
       "array([0.00000000e+00, 0.00000000e+00, 0.00000000e+00, 1.00000000e+00,\n",
       "       1.25000000e-01, 8.07316198e-04, 2.56410256e-02, 3.33333333e-01,\n",
       "       3.21565618e-01])"
      ]
     },
     "execution_count": 49,
     "metadata": {},
     "output_type": "execute_result"
    }
   ],
   "source": [
    "X_scaled[0]"
   ]
  },
  {
   "cell_type": "code",
   "execution_count": 50,
   "id": "unexpected-slovakia",
   "metadata": {},
   "outputs": [],
   "source": [
    "le1 = LabelEncoder()\n",
    "X_test[\"location\"] = le1.fit_transform(X_test[\"location\"])"
   ]
  },
  {
   "cell_type": "code",
   "execution_count": 51,
   "id": "english-median",
   "metadata": {},
   "outputs": [],
   "source": []
  },
  {
   "cell_type": "code",
   "execution_count": 52,
   "id": "moved-engineering",
   "metadata": {},
   "outputs": [
    {
     "data": {
      "text/plain": [
       "array([0.        , 0.        , 0.        , 1.        , 0.125     ,\n",
       "       0.00544177, 0.06666667, 0.66666667, 0.19230769])"
      ]
     },
     "execution_count": 52,
     "metadata": {},
     "output_type": "execute_result"
    }
   ],
   "source": [
    "X_test_scaled[0]"
   ]
  },
  {
   "cell_type": "code",
   "execution_count": 54,
   "id": "requested-entrance",
   "metadata": {},
   "outputs": [],
   "source": [
    "y = np.array(y)"
   ]
  },
  {
   "cell_type": "code",
   "execution_count": 55,
   "id": "limiting-creation",
   "metadata": {},
   "outputs": [
    {
     "data": {
      "text/plain": [
       "array([ 39.07, 120.  ,  62.  , ...,  60.  , 488.  ,  17.  ])"
      ]
     },
     "execution_count": 55,
     "metadata": {},
     "output_type": "execute_result"
    }
   ],
   "source": [
    "y"
   ]
  },
  {
   "cell_type": "code",
   "execution_count": null,
   "id": "graphic-fraction",
   "metadata": {},
   "outputs": [],
   "source": []
  },
  {
   "cell_type": "code",
   "execution_count": 56,
   "id": "ranging-dancing",
   "metadata": {},
   "outputs": [
    {
     "name": "stdout",
     "output_type": "stream",
     "text": [
      "Epoch 1/100\n",
      "354/354 [==============================] - 4s 5ms/step - loss: 1365599.3073 - mae: 1365599.3073 - val_loss: 65.4624 - val_mae: 65.4624\n",
      "Epoch 2/100\n",
      "354/354 [==============================] - 1s 3ms/step - loss: 63.8894 - mae: 63.8894 - val_loss: 65.3759 - val_mae: 65.3759\n",
      "Epoch 3/100\n",
      "354/354 [==============================] - 2s 4ms/step - loss: 64.0601 - mae: 64.0601 - val_loss: 65.3493 - val_mae: 65.3493\n",
      "Epoch 4/100\n",
      "354/354 [==============================] - 2s 6ms/step - loss: 62.7343 - mae: 62.7343 - val_loss: 65.4042 - val_mae: 65.4042\n",
      "Epoch 5/100\n",
      "354/354 [==============================] - 2s 7ms/step - loss: 61.9663 - mae: 61.9663 - val_loss: 65.3420 - val_mae: 65.3420\n",
      "Epoch 6/100\n",
      "354/354 [==============================] - 1s 4ms/step - loss: 61.4339 - mae: 61.4339 - val_loss: 65.3912 - val_mae: 65.3912\n",
      "Epoch 7/100\n",
      "354/354 [==============================] - 1s 2ms/step - loss: 62.9112 - mae: 62.9112 - val_loss: 65.3685 - val_mae: 65.3685\n",
      "Epoch 8/100\n",
      "354/354 [==============================] - 1s 2ms/step - loss: 63.0928 - mae: 63.0928 - val_loss: 65.3764 - val_mae: 65.3764\n",
      "Epoch 9/100\n",
      "354/354 [==============================] - 1s 2ms/step - loss: 62.5938 - mae: 62.5938 - val_loss: 65.3602 - val_mae: 65.3602\n",
      "Epoch 10/100\n",
      "354/354 [==============================] - 1s 2ms/step - loss: 61.8989 - mae: 61.8989 - val_loss: 65.3428 - val_mae: 65.3428\n",
      "Epoch 11/100\n",
      "354/354 [==============================] - 1s 3ms/step - loss: 62.3612 - mae: 62.3612 - val_loss: 65.3575 - val_mae: 65.3575\n",
      "Epoch 12/100\n",
      "354/354 [==============================] - 1s 2ms/step - loss: 63.0674 - mae: 63.0674 - val_loss: 65.3876 - val_mae: 65.3876\n",
      "Epoch 13/100\n",
      "354/354 [==============================] - 1s 3ms/step - loss: 61.2958 - mae: 61.2958 - val_loss: 65.3603 - val_mae: 65.3603\n",
      "Epoch 14/100\n",
      "354/354 [==============================] - 1s 3ms/step - loss: 63.3418 - mae: 63.3418 - val_loss: 65.3429 - val_mae: 65.3429\n",
      "Epoch 15/100\n",
      "354/354 [==============================] - 1s 2ms/step - loss: 63.4245 - mae: 63.4245 - val_loss: 65.3513 - val_mae: 65.3513\n",
      "Epoch 16/100\n",
      "354/354 [==============================] - 1s 4ms/step - loss: 63.0200 - mae: 63.0200 - val_loss: 65.3540 - val_mae: 65.3540\n",
      "Epoch 17/100\n",
      "354/354 [==============================] - 1s 2ms/step - loss: 63.6403 - mae: 63.6403 - val_loss: 65.3420 - val_mae: 65.3420\n",
      "Epoch 18/100\n",
      "354/354 [==============================] - 1s 2ms/step - loss: 62.7781 - mae: 62.7781 - val_loss: 65.3579 - val_mae: 65.3579\n",
      "Epoch 19/100\n",
      "354/354 [==============================] - 1s 2ms/step - loss: 63.5946 - mae: 63.5946 - val_loss: 65.3448 - val_mae: 65.3448\n",
      "Epoch 20/100\n",
      "354/354 [==============================] - 2s 5ms/step - loss: 61.9860 - mae: 61.9860 - val_loss: 65.3539 - val_mae: 65.3539\n",
      "Epoch 21/100\n",
      "354/354 [==============================] - 2s 5ms/step - loss: 63.4367 - mae: 63.4367 - val_loss: 65.3823 - val_mae: 65.3823\n",
      "Epoch 22/100\n",
      "354/354 [==============================] - 1s 2ms/step - loss: 60.3674 - mae: 60.3674 - val_loss: 65.4047 - val_mae: 65.4047\n",
      "Epoch 23/100\n",
      "354/354 [==============================] - 1s 2ms/step - loss: 63.9875 - mae: 63.9875 - val_loss: 65.3420 - val_mae: 65.3420\n",
      "Epoch 24/100\n",
      "354/354 [==============================] - 1s 2ms/step - loss: 64.3634 - mae: 64.3634 - val_loss: 65.3421 - val_mae: 65.3421\n",
      "Epoch 25/100\n",
      "354/354 [==============================] - 1s 2ms/step - loss: 62.8102 - mae: 62.8102 - val_loss: 65.3426 - val_mae: 65.3426\n",
      "Epoch 26/100\n",
      "354/354 [==============================] - 2s 5ms/step - loss: 61.0601 - mae: 61.0601 - val_loss: 65.3424 - val_mae: 65.3424\n",
      "Epoch 27/100\n",
      "354/354 [==============================] - 1s 2ms/step - loss: 65.5686 - mae: 65.5686 - val_loss: 65.3835 - val_mae: 65.3835\n",
      "Epoch 28/100\n",
      "354/354 [==============================] - 1s 2ms/step - loss: 61.5202 - mae: 61.5202 - val_loss: 65.4205 - val_mae: 65.4205\n",
      "Epoch 29/100\n",
      "354/354 [==============================] - 1s 3ms/step - loss: 63.8817 - mae: 63.8817 - val_loss: 65.3421 - val_mae: 65.3421\n",
      "Epoch 30/100\n",
      "354/354 [==============================] - 2s 5ms/step - loss: 64.3403 - mae: 64.3403 - val_loss: 65.3445 - val_mae: 65.3445\n",
      "Epoch 31/100\n",
      "354/354 [==============================] - 1s 2ms/step - loss: 64.2928 - mae: 64.2928 - val_loss: 65.3444 - val_mae: 65.3444\n",
      "Epoch 32/100\n",
      "354/354 [==============================] - 1s 2ms/step - loss: 62.5846 - mae: 62.5846 - val_loss: 65.4064 - val_mae: 65.4064\n",
      "Epoch 33/100\n",
      "354/354 [==============================] - 1s 4ms/step - loss: 61.6817 - mae: 61.6817 - val_loss: 65.3698 - val_mae: 65.3698\n",
      "Epoch 34/100\n",
      "354/354 [==============================] - 1s 3ms/step - loss: 62.8307 - mae: 62.8307 - val_loss: 65.3495 - val_mae: 65.3495\n",
      "Epoch 35/100\n",
      "354/354 [==============================] - 1s 3ms/step - loss: 64.4062 - mae: 64.4062 - val_loss: 65.3422 - val_mae: 65.3422\n",
      "Epoch 36/100\n",
      "354/354 [==============================] - 1s 2ms/step - loss: 64.7088 - mae: 64.7088 - val_loss: 65.3557 - val_mae: 65.3557\n",
      "Epoch 37/100\n",
      "354/354 [==============================] - 1s 2ms/step - loss: 63.1141 - mae: 63.1141 - val_loss: 65.3817 - val_mae: 65.3817\n",
      "Epoch 38/100\n",
      "354/354 [==============================] - 1s 3ms/step - loss: 65.1014 - mae: 65.1014 - val_loss: 65.3421 - val_mae: 65.3421\n",
      "Epoch 39/100\n",
      "354/354 [==============================] - 1s 3ms/step - loss: 63.0304 - mae: 63.0304 - val_loss: 65.4190 - val_mae: 65.4190\n",
      "Epoch 40/100\n",
      "354/354 [==============================] - 1s 3ms/step - loss: 63.3720 - mae: 63.3720 - val_loss: 65.3427 - val_mae: 65.3427\n",
      "Epoch 41/100\n",
      "354/354 [==============================] - 1s 2ms/step - loss: 61.0479 - mae: 61.0479 - val_loss: 65.3784 - val_mae: 65.3784\n",
      "Epoch 42/100\n",
      "354/354 [==============================] - 1s 3ms/step - loss: 63.6099 - mae: 63.6099 - val_loss: 65.4632 - val_mae: 65.4632\n",
      "Epoch 43/100\n",
      "354/354 [==============================] - 2s 6ms/step - loss: 63.3200 - mae: 63.3200 - val_loss: 65.3422 - val_mae: 65.3422\n",
      "Epoch 44/100\n",
      "354/354 [==============================] - 1s 4ms/step - loss: 62.7231 - mae: 62.7231 - val_loss: 65.3445 - val_mae: 65.3445\n",
      "Epoch 45/100\n",
      "354/354 [==============================] - 2s 5ms/step - loss: 62.8827 - mae: 62.8827 - val_loss: 65.3760 - val_mae: 65.3760\n",
      "Epoch 46/100\n",
      "354/354 [==============================] - 1s 4ms/step - loss: 63.6864 - mae: 63.6864 - val_loss: 65.3491 - val_mae: 65.3491\n",
      "Epoch 47/100\n",
      "354/354 [==============================] - 1s 2ms/step - loss: 62.8616 - mae: 62.8616 - val_loss: 65.3420 - val_mae: 65.3420\n",
      "Epoch 48/100\n",
      "354/354 [==============================] - 1s 3ms/step - loss: 62.7476 - mae: 62.7476 - val_loss: 65.3498 - val_mae: 65.3498\n",
      "Epoch 49/100\n",
      "354/354 [==============================] - 1s 4ms/step - loss: 64.9175 - mae: 64.9175 - val_loss: 65.3421 - val_mae: 65.3421\n",
      "Epoch 50/100\n",
      "354/354 [==============================] - 1s 2ms/step - loss: 61.5578 - mae: 61.5578 - val_loss: 65.3813 - val_mae: 65.3813\n",
      "Epoch 51/100\n",
      "354/354 [==============================] - 1s 2ms/step - loss: 63.5391 - mae: 63.5391 - val_loss: 65.3752 - val_mae: 65.3752\n",
      "Epoch 52/100\n",
      "354/354 [==============================] - 1s 2ms/step - loss: 61.8415 - mae: 61.8415 - val_loss: 65.3426 - val_mae: 65.3426\n",
      "Epoch 53/100\n",
      "354/354 [==============================] - 1s 2ms/step - loss: 61.6885 - mae: 61.6885 - val_loss: 65.3739 - val_mae: 65.3739\n",
      "Epoch 54/100\n",
      "354/354 [==============================] - 1s 2ms/step - loss: 62.3258 - mae: 62.3258 - val_loss: 65.4301 - val_mae: 65.4301\n",
      "Epoch 55/100\n",
      "354/354 [==============================] - 1s 2ms/step - loss: 60.7508 - mae: 60.7508 - val_loss: 65.4400 - val_mae: 65.4400\n",
      "Epoch 56/100\n",
      "354/354 [==============================] - 1s 2ms/step - loss: 63.5598 - mae: 63.5598 - val_loss: 65.3944 - val_mae: 65.3944\n",
      "Epoch 57/100\n",
      "354/354 [==============================] - 2s 6ms/step - loss: 60.9161 - mae: 60.9161 - val_loss: 65.4061 - val_mae: 65.4061\n",
      "Epoch 58/100\n",
      "354/354 [==============================] - 1s 4ms/step - loss: 62.2283 - mae: 62.2283 - val_loss: 65.3775 - val_mae: 65.3775\n",
      "Epoch 59/100\n",
      "354/354 [==============================] - 2s 5ms/step - loss: 62.6139 - mae: 62.6139 - val_loss: 65.3462 - val_mae: 65.3462\n",
      "Epoch 60/100\n"
     ]
    },
    {
     "name": "stdout",
     "output_type": "stream",
     "text": [
      "354/354 [==============================] - 1s 2ms/step - loss: 63.5647 - mae: 63.5647 - val_loss: 65.4083 - val_mae: 65.4083\n",
      "Epoch 61/100\n",
      "354/354 [==============================] - 1s 4ms/step - loss: 63.9157 - mae: 63.9157 - val_loss: 65.3678 - val_mae: 65.3678\n",
      "Epoch 62/100\n",
      "354/354 [==============================] - 2s 5ms/step - loss: 63.4495 - mae: 63.4495 - val_loss: 65.3523 - val_mae: 65.3523\n",
      "Epoch 63/100\n",
      "354/354 [==============================] - 1s 3ms/step - loss: 64.4849 - mae: 64.4849 - val_loss: 65.3485 - val_mae: 65.3485\n",
      "Epoch 64/100\n",
      "354/354 [==============================] - 1s 2ms/step - loss: 63.1952 - mae: 63.1952 - val_loss: 65.3531 - val_mae: 65.3531\n",
      "Epoch 65/100\n",
      "354/354 [==============================] - 1s 2ms/step - loss: 63.7508 - mae: 63.7508 - val_loss: 65.4241 - val_mae: 65.4241\n",
      "Epoch 66/100\n",
      "354/354 [==============================] - 2s 4ms/step - loss: 64.1068 - mae: 64.1068 - val_loss: 65.3667 - val_mae: 65.3667\n",
      "Epoch 67/100\n",
      "354/354 [==============================] - 1s 4ms/step - loss: 62.4753 - mae: 62.4753 - val_loss: 65.3420 - val_mae: 65.3420\n",
      "Epoch 68/100\n",
      "354/354 [==============================] - 1s 4ms/step - loss: 64.8472 - mae: 64.8472 - val_loss: 65.3420 - val_mae: 65.3420\n",
      "Epoch 69/100\n",
      "354/354 [==============================] - 2s 6ms/step - loss: 61.4396 - mae: 61.4396 - val_loss: 65.4242 - val_mae: 65.4242\n",
      "Epoch 70/100\n",
      "354/354 [==============================] - 1s 2ms/step - loss: 60.6966 - mae: 60.6966 - val_loss: 65.3583 - val_mae: 65.3583\n",
      "Epoch 71/100\n",
      "354/354 [==============================] - 1s 2ms/step - loss: 64.3874 - mae: 64.3874 - val_loss: 65.3420 - val_mae: 65.3420\n",
      "Epoch 72/100\n",
      "354/354 [==============================] - 2s 5ms/step - loss: 63.1371 - mae: 63.1371 - val_loss: 65.3847 - val_mae: 65.3847\n",
      "Epoch 73/100\n",
      "354/354 [==============================] - 1s 2ms/step - loss: 62.7040 - mae: 62.7040 - val_loss: 65.3420 - val_mae: 65.3420\n",
      "Epoch 74/100\n",
      "354/354 [==============================] - 2s 6ms/step - loss: 61.3869 - mae: 61.3869 - val_loss: 65.3864 - val_mae: 65.3864\n",
      "Epoch 75/100\n",
      "354/354 [==============================] - 2s 6ms/step - loss: 64.6751 - mae: 64.6751 - val_loss: 65.6293 - val_mae: 65.6293\n",
      "Epoch 76/100\n",
      "354/354 [==============================] - 1s 2ms/step - loss: 63.2335 - mae: 63.2335 - val_loss: 65.3542 - val_mae: 65.3542\n",
      "Epoch 77/100\n",
      "354/354 [==============================] - 2s 5ms/step - loss: 64.5952 - mae: 64.5952 - val_loss: 65.3768 - val_mae: 65.3768\n",
      "Epoch 78/100\n",
      "354/354 [==============================] - 1s 2ms/step - loss: 61.5924 - mae: 61.5924 - val_loss: 65.3623 - val_mae: 65.3623\n",
      "Epoch 79/100\n",
      "354/354 [==============================] - 1s 4ms/step - loss: 63.7808 - mae: 63.7808 - val_loss: 65.3422 - val_mae: 65.3422\n",
      "Epoch 80/100\n",
      "354/354 [==============================] - 1s 3ms/step - loss: 63.3228 - mae: 63.3228 - val_loss: 65.3737 - val_mae: 65.3737\n",
      "Epoch 81/100\n",
      "354/354 [==============================] - 1s 2ms/step - loss: 62.6866 - mae: 62.6866 - val_loss: 65.4154 - val_mae: 65.4154\n",
      "Epoch 82/100\n",
      "354/354 [==============================] - 2s 4ms/step - loss: 62.4204 - mae: 62.4204 - val_loss: 65.3497 - val_mae: 65.3497\n",
      "Epoch 83/100\n",
      "354/354 [==============================] - 2s 6ms/step - loss: 64.3574 - mae: 64.3574 - val_loss: 65.3498 - val_mae: 65.3498\n",
      "Epoch 84/100\n",
      "354/354 [==============================] - 1s 2ms/step - loss: 63.3157 - mae: 63.3157 - val_loss: 65.3479 - val_mae: 65.3479\n",
      "Epoch 85/100\n",
      "354/354 [==============================] - 1s 2ms/step - loss: 65.0757 - mae: 65.0757 - val_loss: 65.3499 - val_mae: 65.3499\n",
      "Epoch 86/100\n",
      "354/354 [==============================] - 1s 2ms/step - loss: 64.9953 - mae: 64.9953 - val_loss: 65.3430 - val_mae: 65.3430\n",
      "Epoch 87/100\n",
      "354/354 [==============================] - 1s 2ms/step - loss: 64.2293 - mae: 64.2293 - val_loss: 65.3488 - val_mae: 65.3488\n",
      "Epoch 88/100\n",
      "354/354 [==============================] - 1s 4ms/step - loss: 62.3888 - mae: 62.3888 - val_loss: 65.3423 - val_mae: 65.3423\n",
      "Epoch 89/100\n",
      "354/354 [==============================] - 1s 2ms/step - loss: 63.9284 - mae: 63.9284 - val_loss: 65.3426 - val_mae: 65.3426\n",
      "Epoch 90/100\n",
      "354/354 [==============================] - 2s 6ms/step - loss: 61.8484 - mae: 61.8484 - val_loss: 65.3565 - val_mae: 65.3565\n",
      "Epoch 91/100\n",
      "354/354 [==============================] - 1s 2ms/step - loss: 63.7444 - mae: 63.7444 - val_loss: 65.3448 - val_mae: 65.3448\n",
      "Epoch 92/100\n",
      "354/354 [==============================] - 1s 2ms/step - loss: 61.4154 - mae: 61.4154 - val_loss: 65.3562 - val_mae: 65.3562\n",
      "Epoch 93/100\n",
      "354/354 [==============================] - 2s 4ms/step - loss: 62.8333 - mae: 62.8333 - val_loss: 65.3481 - val_mae: 65.3481\n",
      "Epoch 94/100\n",
      "354/354 [==============================] - 1s 2ms/step - loss: 64.0142 - mae: 64.0142 - val_loss: 65.3459 - val_mae: 65.3459\n",
      "Epoch 95/100\n",
      "354/354 [==============================] - 1s 2ms/step - loss: 62.5832 - mae: 62.5832 - val_loss: 65.3422 - val_mae: 65.3422\n",
      "Epoch 96/100\n",
      "354/354 [==============================] - 2s 5ms/step - loss: 63.9376 - mae: 63.9376 - val_loss: 65.3431 - val_mae: 65.3431\n",
      "Epoch 97/100\n",
      "354/354 [==============================] - 1s 2ms/step - loss: 60.8746 - mae: 60.8746 - val_loss: 65.3453 - val_mae: 65.3453\n",
      "Epoch 98/100\n",
      "354/354 [==============================] - 1s 2ms/step - loss: 64.0400 - mae: 64.0400 - val_loss: 65.4449 - val_mae: 65.4449\n",
      "Epoch 99/100\n",
      "354/354 [==============================] - 2s 5ms/step - loss: 60.2847 - mae: 60.2847 - val_loss: 65.3754 - val_mae: 65.3754\n",
      "Epoch 100/100\n",
      "354/354 [==============================] - 1s 2ms/step - loss: 64.2631 - mae: 64.2631 - val_loss: 65.3718 - val_mae: 65.3718\n"
     ]
    },
    {
     "data": {
      "text/plain": [
       "<tensorflow.python.keras.callbacks.History at 0x26a586da648>"
      ]
     },
     "execution_count": 56,
     "metadata": {},
     "output_type": "execute_result"
    }
   ],
   "source": [
    "model = keras.Sequential()\n",
    "\n",
    "model.add(keras.layers.Dense(256, activation=\"relu\"))\n",
    "model.add(keras.layers.Dense(128, activation=\"relu\"))\n",
    "model.add(keras.layers.Dense(128, activation=\"relu\"))\n",
    "model.add(keras.layers.Dense(64, activation=\"relu\"))\n",
    "model.add(keras.layers.Dense(32, activation=\"relu\"))\n",
    "\n",
    "model.add(keras.layers.Dropout(0.4))\n",
    "\n",
    "model.add(keras.layers.Dense(1, activation=\"linear\"))\n",
    "\n",
    "model.compile(loss=keras.losses.mae, metrics=[\"mae\"], \n",
    "              optimizer = keras.optimizers.Adam(lr=1))\n",
    "\n",
    "model.fit(X_scaled, y, epochs=100, validation_split=0.15)"
   ]
  },
  {
   "cell_type": "code",
   "execution_count": null,
   "id": "thermal-brain",
   "metadata": {},
   "outputs": [],
   "source": []
  },
  {
   "cell_type": "code",
   "execution_count": 57,
   "id": "reduced-album",
   "metadata": {},
   "outputs": [
    {
     "name": "stdout",
     "output_type": "stream",
     "text": [
      "WARNING:tensorflow:Layers in a Sequential model should only have a single input tensor, but we receive a <class 'tuple'> input: (<tf.Tensor 'IteratorGetNext:0' shape=(None, 9) dtype=float32>,)\n",
      "Consider rewriting this model with the Functional API.\n"
     ]
    }
   ],
   "source": [
    "preds = model.predict([X_test_scaled])"
   ]
  },
  {
   "cell_type": "code",
   "execution_count": 58,
   "id": "nasty-pepper",
   "metadata": {},
   "outputs": [
    {
     "data": {
      "text/plain": [
       "array([[73.455185],\n",
       "       [73.455185],\n",
       "       [73.455185],\n",
       "       ...,\n",
       "       [73.455185],\n",
       "       [73.455185],\n",
       "       [73.455185]], dtype=float32)"
      ]
     },
     "execution_count": 58,
     "metadata": {},
     "output_type": "execute_result"
    }
   ],
   "source": [
    "preds"
   ]
  },
  {
   "cell_type": "code",
   "execution_count": null,
   "id": "harmful-indie",
   "metadata": {},
   "outputs": [],
   "source": []
  }
 ],
 "metadata": {
  "kernelspec": {
   "display_name": "Python 3",
   "language": "python",
   "name": "python3"
  },
  "language_info": {
   "codemirror_mode": {
    "name": "ipython",
    "version": 3
   },
   "file_extension": ".py",
   "mimetype": "text/x-python",
   "name": "python",
   "nbconvert_exporter": "python",
   "pygments_lexer": "ipython3",
   "version": "3.7.9"
  }
 },
 "nbformat": 4,
 "nbformat_minor": 5
}
